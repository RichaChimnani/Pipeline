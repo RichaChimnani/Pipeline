

{
 "cells": [
  {
   "cell_type": "code",
   "execution_count": 1,
   "metadata": {},
   "outputs": [],
   "source": [
    "# Importing libraries\n",
    "from sklearn.feature_extraction.text import TfidfVectorizer\n",
    "from sklearn.neighbors import KNeighborsClassifier\n",
    "from sklearn.cluster import KMeans\n",
    "from nltk.corpus import stopwords \n",
    "from nltk.stem.wordnet import WordNetLemmatizer\n",
    "import string\n",
    "import re\n",
    "import numpy as np\n",
    "import pandas as pd\n",
    "from collections import Counter\n",
    "import matplotlib.pyplot as plt\n",
    "plt.style.use('ggplot')\n",
    "\n",
    "stop = set(stopwords.words('english'))\n",
    "exclude = set(string.punctuation) \n",
    "lemma = WordNetLemmatizer()"
   ]
  },
  {
   "cell_type": "code",
   "execution_count": 2,
   "metadata": {},
   "outputs": [
    {
     "name": "stderr",
     "output_type": "stream",
     "text": [
      "C:\\ProgramData\\Anaconda3\\lib\\site-packages\\dask\\config.py:168: YAMLLoadWarning: calling yaml.load() without Loader=... is deprecated, as the default Loader is unsafe. Please read https://msg.pyyaml.org/load for full details.\n",
      "  data = yaml.load(f.read()) or {}\n",
      "C:\\ProgramData\\Anaconda3\\lib\\site-packages\\dask\\dataframe\\utils.py:13: FutureWarning: pandas.util.testing is deprecated. Use the functions in the public API at pandas.testing instead.\n",
      "  import pandas.util.testing as tm\n",
      "C:\\ProgramData\\Anaconda3\\lib\\site-packages\\distributed\\config.py:20: YAMLLoadWarning: calling yaml.load() without Loader=... is deprecated, as the default Loader is unsafe. Please read https://msg.pyyaml.org/load for full details.\n",
      "  defaults = yaml.load(f)\n"
     ]
    }
   ],
   "source": [
    "# Core Libraries - Data manipulation and analysis\n",
    "import pandas as pd\n",
    "import numpy as np\n",
    "import math\n",
    "from math import sqrt\n",
    "import matplotlib.pyplot as plt\n",
    "import seaborn as sns\n",
    "%matplotlib inline\n",
    "  \n",
    "# Core Libraries - Machine Learning\n",
    "import sklearn\n",
    "import xgboost as xgb\n",
    "\n",
    "\n",
    "# Importing Classifiers - Modelling\n",
    "from sklearn.ensemble import RandomForestClassifier, ExtraTreesClassifier, VotingClassifier\n",
    "from sklearn.discriminant_analysis import LinearDiscriminantAnalysis\n",
    "from sklearn.linear_model import LogisticRegression\n",
    "from xgboost.sklearn import XGBClassifier\n",
    "\n",
    "from sklearn.neighbors import KNeighborsClassifier\n",
    "from sklearn.tree import DecisionTreeClassifier\n",
    "from sklearn.neural_network import MLPClassifier\n",
    "from sklearn.naive_bayes import GaussianNB\n",
    "\n",
    "from collections import Counter\n",
    "\n",
    "## Importing train_test_split,cross_val_score,GridSearchCV,KFold - Validation and Optimization\n",
    "from sklearn.model_selection import train_test_split, GridSearchCV, cross_val_score, StratifiedKFold, learning_curve, KFold\n",
    "\n",
    "# Importing Metrics - Performance Evaluation\n",
    "from sklearn.metrics import accuracy_score\n",
    "from sklearn.metrics import confusion_matrix\n",
    "from sklearn.metrics import classification_report\n",
    "\n",
    "# Warnings Library - Ignore warnings\n",
    "import warnings\n",
    "warnings.filterwarnings('ignore')"
   ]
  },
  {
   "cell_type": "code",
   "execution_count": 3,
   "metadata": {},
   "outputs": [
    {
     "data": {
      "text/html": [
       "<div>\n",
       "<style scoped>\n",
       "    .dataframe tbody tr th:only-of-type {\n",
       "        vertical-align: middle;\n",
       "    }\n",
       "\n",
       "    .dataframe tbody tr th {\n",
       "        vertical-align: top;\n",
       "    }\n",
       "\n",
       "    .dataframe thead th {\n",
       "        text-align: right;\n",
       "    }\n",
       "</style>\n",
       "<table border=\"1\" class=\"dataframe\">\n",
       "  <thead>\n",
       "    <tr style=\"text-align: right;\">\n",
       "      <th></th>\n",
       "      <th>ICN</th>\n",
       "      <th>GS04</th>\n",
       "      <th>GS05</th>\n",
       "      <th>BillingProviderName</th>\n",
       "      <th>ProviderNameHash</th>\n",
       "      <th>BillingProviderNPI</th>\n",
       "      <th>BillingProviderTIN</th>\n",
       "      <th>BillingProviderTaxonomy</th>\n",
       "      <th>ProviderAddressHash</th>\n",
       "      <th>ProviderAddressConcat</th>\n",
       "      <th>...</th>\n",
       "      <th>OrderingProviderLastName</th>\n",
       "      <th>OrderingProviderMiddleName</th>\n",
       "      <th>OrderingProviderNPI</th>\n",
       "      <th>AttendingNameHash</th>\n",
       "      <th>AttendingNameConcat</th>\n",
       "      <th>AttendingPhysicianFirstName</th>\n",
       "      <th>AttendingPhysicianLastName</th>\n",
       "      <th>AttendingPhysicianMiddleName</th>\n",
       "      <th>AttendingPhysicianNPI</th>\n",
       "      <th>AttendingPhysicianTaxonomy</th>\n",
       "    </tr>\n",
       "  </thead>\n",
       "  <tbody>\n",
       "    <tr>\n",
       "      <th>0</th>\n",
       "      <td>CC48195094</td>\n",
       "      <td>20200604</td>\n",
       "      <td>19120100</td>\n",
       "      <td>NYU WINTHROP HOSPITAL</td>\n",
       "      <td>3967125298387020</td>\n",
       "      <td>1114925567</td>\n",
       "      <td>111633486</td>\n",
       "      <td>282N00000X</td>\n",
       "      <td>7539445231525890</td>\n",
       "      <td>259 FIRST STREETMINEOLANY115013957</td>\n",
       "      <td>...</td>\n",
       "      <td>NaN</td>\n",
       "      <td>NaN</td>\n",
       "      <td>NaN</td>\n",
       "      <td>2486032148531300</td>\n",
       "      <td>1GEORGESUNIL</td>\n",
       "      <td>1</td>\n",
       "      <td>GEORGE</td>\n",
       "      <td>SUNIL</td>\n",
       "      <td>1508029638</td>\n",
       "      <td>207P00000X</td>\n",
       "    </tr>\n",
       "    <tr>\n",
       "      <th>1</th>\n",
       "      <td>CC82439425</td>\n",
       "      <td>20200619</td>\n",
       "      <td>19201400</td>\n",
       "      <td>NYU WINTHROP HOSPITAL</td>\n",
       "      <td>3967125298387020</td>\n",
       "      <td>1114925567</td>\n",
       "      <td>111633486</td>\n",
       "      <td>282N00000X</td>\n",
       "      <td>7539445231525890</td>\n",
       "      <td>259 FIRST STREETMINEOLANY115013957</td>\n",
       "      <td>...</td>\n",
       "      <td>NaN</td>\n",
       "      <td>NaN</td>\n",
       "      <td>NaN</td>\n",
       "      <td>9765697474558140</td>\n",
       "      <td>1ATLURIPRASHANTI</td>\n",
       "      <td>1</td>\n",
       "      <td>ATLURI</td>\n",
       "      <td>PRASHANTI</td>\n",
       "      <td>1932275609</td>\n",
       "      <td>207RH0003X</td>\n",
       "    </tr>\n",
       "  </tbody>\n",
       "</table>\n",
       "<p>2 rows × 83 columns</p>\n",
       "</div>"
      ],
      "text/plain": [
       "          ICN      GS04      GS05    BillingProviderName  ProviderNameHash  \\\n",
       "0  CC48195094  20200604  19120100  NYU WINTHROP HOSPITAL  3967125298387020   \n",
       "1  CC82439425  20200619  19201400  NYU WINTHROP HOSPITAL  3967125298387020   \n",
       "\n",
       "  BillingProviderNPI BillingProviderTIN BillingProviderTaxonomy  \\\n",
       "0         1114925567          111633486              282N00000X   \n",
       "1         1114925567          111633486              282N00000X   \n",
       "\n",
       "  ProviderAddressHash               ProviderAddressConcat  ...  \\\n",
       "0    7539445231525890  259 FIRST STREETMINEOLANY115013957  ...   \n",
       "1    7539445231525890  259 FIRST STREETMINEOLANY115013957  ...   \n",
       "\n",
       "  OrderingProviderLastName OrderingProviderMiddleName OrderingProviderNPI  \\\n",
       "0                      NaN                        NaN                 NaN   \n",
       "1                      NaN                        NaN                 NaN   \n",
       "\n",
       "  AttendingNameHash AttendingNameConcat AttendingPhysicianFirstName  \\\n",
       "0  2486032148531300        1GEORGESUNIL                           1   \n",
       "1  9765697474558140    1ATLURIPRASHANTI                           1   \n",
       "\n",
       "  AttendingPhysicianLastName AttendingPhysicianMiddleName  \\\n",
       "0                     GEORGE                        SUNIL   \n",
       "1                     ATLURI                    PRASHANTI   \n",
       "\n",
       "  AttendingPhysicianNPI AttendingPhysicianTaxonomy  \n",
       "0            1508029638                 207P00000X  \n",
       "1            1932275609                 207RH0003X  \n",
       "\n",
       "[2 rows x 83 columns]"
      ]
     },
     "execution_count": 3,
     "metadata": {},
     "output_type": "execute_result"
    }
   ],
   "source": [
    "data=pd.read_excel(\"nyuEDISample.xlsx\",dtype=str)\n",
    "data.head(2)"
   ]
  },
  {
   "cell_type": "code",
   "execution_count": 4,
   "metadata": {},
   "outputs": [
    {
     "name": "stdout",
     "output_type": "stream",
     "text": [
      "                     column_name missing_data  missing_in_percentage\n",
      "0                            ICN            0               0.000000\n",
      "1                           GS04            0               0.000000\n",
      "2                           GS05            0               0.000000\n",
      "3            BillingProviderName            0               0.000000\n",
      "4               ProviderNameHash            0               0.000000\n",
      "..                           ...          ...                    ...\n",
      "78   AttendingPhysicianFirstName         6596              27.791354\n",
      "79    AttendingPhysicianLastName        15117              63.693436\n",
      "80  AttendingPhysicianMiddleName        15117              63.693436\n",
      "81         AttendingPhysicianNPI         6596              27.791354\n",
      "82    AttendingPhysicianTaxonomy        15232              64.177973\n",
      "\n",
      "[83 rows x 3 columns]\n"
     ]
    }
   ],
   "source": [
    "round((data.isnull().sum()*100)/len(data),2)\n",
    "\n",
    "def miss_data(df):\n",
    "    x = ['column_name','missing_data', 'missing_in_percentage']\n",
    "    missing_data = pd.DataFrame(columns=x)\n",
    "    columns = df.columns\n",
    "    for col in columns:\n",
    "        icolumn_name = col\n",
    "        imissing_data = df[col].isnull().sum()\n",
    "        imissing_in_percentage = (df[col].isnull().sum()/df[col].shape[0])*100\n",
    "\n",
    "        missing_data.loc[len(missing_data)] = [icolumn_name, imissing_data, imissing_in_percentage]\n",
    "    print(missing_data)\n",
    "    \n",
    "miss_data(data)\n",
    "\n",
    "limitPer = len(data) * .80\n",
    "df1 = data.dropna(thresh=limitPer,axis=1)"
   ]
  },
  {
   "cell_type": "code",
   "execution_count": 5,
   "metadata": {},
   "outputs": [
    {
     "data": {
      "text/html": [
       "<div>\n",
       "<style scoped>\n",
       "    .dataframe tbody tr th:only-of-type {\n",
       "        vertical-align: middle;\n",
       "    }\n",
       "\n",
       "    .dataframe tbody tr th {\n",
       "        vertical-align: top;\n",
       "    }\n",
       "\n",
       "    .dataframe thead th {\n",
       "        text-align: right;\n",
       "    }\n",
       "</style>\n",
       "<table border=\"1\" class=\"dataframe\">\n",
       "  <thead>\n",
       "    <tr style=\"text-align: right;\">\n",
       "      <th></th>\n",
       "      <th>ICN</th>\n",
       "      <th>GS04</th>\n",
       "      <th>GS05</th>\n",
       "      <th>BillingProviderName</th>\n",
       "      <th>ProviderNameHash</th>\n",
       "      <th>BillingProviderNPI</th>\n",
       "      <th>BillingProviderTIN</th>\n",
       "      <th>ProviderAddressHash</th>\n",
       "      <th>ProviderAddressConcat</th>\n",
       "      <th>BillingProviderAddress1</th>\n",
       "      <th>...</th>\n",
       "      <th>ProviderBillingZip</th>\n",
       "      <th>ProviderBillingZip4</th>\n",
       "      <th>PayToAddressHash</th>\n",
       "      <th>PaytoAddressConcat</th>\n",
       "      <th>PayToAddress1</th>\n",
       "      <th>PayToAddressCity</th>\n",
       "      <th>PayToAddressState</th>\n",
       "      <th>PayToAddressZip</th>\n",
       "      <th>PayToZip</th>\n",
       "      <th>PayToZip4</th>\n",
       "    </tr>\n",
       "  </thead>\n",
       "  <tbody>\n",
       "    <tr>\n",
       "      <th>0</th>\n",
       "      <td>CC48195094</td>\n",
       "      <td>20200604</td>\n",
       "      <td>19120100</td>\n",
       "      <td>NYU WINTHROP HOSPITAL</td>\n",
       "      <td>3967125298387020</td>\n",
       "      <td>1114925567</td>\n",
       "      <td>111633486</td>\n",
       "      <td>7539445231525890</td>\n",
       "      <td>259 FIRST STREETMINEOLANY115013957</td>\n",
       "      <td>259 FIRST STREET</td>\n",
       "      <td>...</td>\n",
       "      <td>11501</td>\n",
       "      <td>3957</td>\n",
       "      <td>7109451749141380</td>\n",
       "      <td>PO BOX 412455BOSTONMA22412455</td>\n",
       "      <td>PO BOX 412455</td>\n",
       "      <td>BOSTON</td>\n",
       "      <td>MA</td>\n",
       "      <td>22412455</td>\n",
       "      <td>22412</td>\n",
       "      <td>455</td>\n",
       "    </tr>\n",
       "    <tr>\n",
       "      <th>1</th>\n",
       "      <td>CC82439425</td>\n",
       "      <td>20200619</td>\n",
       "      <td>19201400</td>\n",
       "      <td>NYU WINTHROP HOSPITAL</td>\n",
       "      <td>3967125298387020</td>\n",
       "      <td>1114925567</td>\n",
       "      <td>111633486</td>\n",
       "      <td>7539445231525890</td>\n",
       "      <td>259 FIRST STREETMINEOLANY115013957</td>\n",
       "      <td>259 FIRST STREET</td>\n",
       "      <td>...</td>\n",
       "      <td>11501</td>\n",
       "      <td>3957</td>\n",
       "      <td>7109451749141380</td>\n",
       "      <td>PO BOX 412455BOSTONMA22412455</td>\n",
       "      <td>PO BOX 412455</td>\n",
       "      <td>BOSTON</td>\n",
       "      <td>MA</td>\n",
       "      <td>22412455</td>\n",
       "      <td>22412</td>\n",
       "      <td>455</td>\n",
       "    </tr>\n",
       "  </tbody>\n",
       "</table>\n",
       "<p>2 rows × 23 columns</p>\n",
       "</div>"
      ],
      "text/plain": [
       "          ICN      GS04      GS05    BillingProviderName  ProviderNameHash  \\\n",
       "0  CC48195094  20200604  19120100  NYU WINTHROP HOSPITAL  3967125298387020   \n",
       "1  CC82439425  20200619  19201400  NYU WINTHROP HOSPITAL  3967125298387020   \n",
       "\n",
       "  BillingProviderNPI BillingProviderTIN ProviderAddressHash  \\\n",
       "0         1114925567          111633486    7539445231525890   \n",
       "1         1114925567          111633486    7539445231525890   \n",
       "\n",
       "                ProviderAddressConcat BillingProviderAddress1  ...  \\\n",
       "0  259 FIRST STREETMINEOLANY115013957        259 FIRST STREET  ...   \n",
       "1  259 FIRST STREETMINEOLANY115013957        259 FIRST STREET  ...   \n",
       "\n",
       "  ProviderBillingZip ProviderBillingZip4  PayToAddressHash  \\\n",
       "0              11501                3957  7109451749141380   \n",
       "1              11501                3957  7109451749141380   \n",
       "\n",
       "              PaytoAddressConcat  PayToAddress1 PayToAddressCity  \\\n",
       "0  PO BOX 412455BOSTONMA22412455  PO BOX 412455           BOSTON   \n",
       "1  PO BOX 412455BOSTONMA22412455  PO BOX 412455           BOSTON   \n",
       "\n",
       "  PayToAddressState PayToAddressZip PayToZip PayToZip4  \n",
       "0                MA        22412455    22412       455  \n",
       "1                MA        22412455    22412       455  \n",
       "\n",
       "[2 rows x 23 columns]"
      ]
     },
     "execution_count": 5,
     "metadata": {},
     "output_type": "execute_result"
    }
   ],
   "source": [
    "df1.head(2)"
   ]
  },
  {
   "cell_type": "code",
   "execution_count": 6,
   "metadata": {},
   "outputs": [],
   "source": [
    "df1=df1.fillna(\"NA\")\n",
    "df1['Identifier'] = df1[\"BillingProviderName\"].str.lower()\n",
    "df1['Identifier']=df1['Identifier'].astype(str)"
   ]
  },
  {
   "cell_type": "code",
   "execution_count": 7,
   "metadata": {},
   "outputs": [
    {
     "data": {
      "text/html": [
       "<div>\n",
       "<style scoped>\n",
       "    .dataframe tbody tr th:only-of-type {\n",
       "        vertical-align: middle;\n",
       "    }\n",
       "\n",
       "    .dataframe tbody tr th {\n",
       "        vertical-align: top;\n",
       "    }\n",
       "\n",
       "    .dataframe thead th {\n",
       "        text-align: right;\n",
       "    }\n",
       "</style>\n",
       "<table border=\"1\" class=\"dataframe\">\n",
       "  <thead>\n",
       "    <tr style=\"text-align: right;\">\n",
       "      <th></th>\n",
       "      <th>Identifier</th>\n",
       "      <th>ICN</th>\n",
       "      <th>GS04</th>\n",
       "      <th>GS05</th>\n",
       "      <th>BillingProviderName</th>\n",
       "      <th>ProviderNameHash</th>\n",
       "      <th>BillingProviderNPI</th>\n",
       "      <th>BillingProviderTIN</th>\n",
       "      <th>ProviderAddressHash</th>\n",
       "      <th>ProviderAddressConcat</th>\n",
       "      <th>...</th>\n",
       "      <th>ProviderBillingZip</th>\n",
       "      <th>ProviderBillingZip4</th>\n",
       "      <th>PayToAddressHash</th>\n",
       "      <th>PaytoAddressConcat</th>\n",
       "      <th>PayToAddress1</th>\n",
       "      <th>PayToAddressCity</th>\n",
       "      <th>PayToAddressState</th>\n",
       "      <th>PayToAddressZip</th>\n",
       "      <th>PayToZip</th>\n",
       "      <th>PayToZip4</th>\n",
       "    </tr>\n",
       "  </thead>\n",
       "  <tbody>\n",
       "    <tr>\n",
       "      <th>0</th>\n",
       "      <td>nyu winthrop hospital</td>\n",
       "      <td>CC48195094</td>\n",
       "      <td>20200604</td>\n",
       "      <td>19120100</td>\n",
       "      <td>NYU WINTHROP HOSPITAL</td>\n",
       "      <td>3967125298387020</td>\n",
       "      <td>1114925567</td>\n",
       "      <td>111633486</td>\n",
       "      <td>7539445231525890</td>\n",
       "      <td>259 FIRST STREETMINEOLANY115013957</td>\n",
       "      <td>...</td>\n",
       "      <td>11501</td>\n",
       "      <td>3957</td>\n",
       "      <td>7109451749141380</td>\n",
       "      <td>PO BOX 412455BOSTONMA22412455</td>\n",
       "      <td>PO BOX 412455</td>\n",
       "      <td>BOSTON</td>\n",
       "      <td>MA</td>\n",
       "      <td>22412455</td>\n",
       "      <td>22412</td>\n",
       "      <td>455</td>\n",
       "    </tr>\n",
       "    <tr>\n",
       "      <th>1</th>\n",
       "      <td>nyu winthrop hospital</td>\n",
       "      <td>CC82439425</td>\n",
       "      <td>20200619</td>\n",
       "      <td>19201400</td>\n",
       "      <td>NYU WINTHROP HOSPITAL</td>\n",
       "      <td>3967125298387020</td>\n",
       "      <td>1114925567</td>\n",
       "      <td>111633486</td>\n",
       "      <td>7539445231525890</td>\n",
       "      <td>259 FIRST STREETMINEOLANY115013957</td>\n",
       "      <td>...</td>\n",
       "      <td>11501</td>\n",
       "      <td>3957</td>\n",
       "      <td>7109451749141380</td>\n",
       "      <td>PO BOX 412455BOSTONMA22412455</td>\n",
       "      <td>PO BOX 412455</td>\n",
       "      <td>BOSTON</td>\n",
       "      <td>MA</td>\n",
       "      <td>22412455</td>\n",
       "      <td>22412</td>\n",
       "      <td>455</td>\n",
       "    </tr>\n",
       "  </tbody>\n",
       "</table>\n",
       "<p>2 rows × 24 columns</p>\n",
       "</div>"
      ],
      "text/plain": [
       "              Identifier         ICN      GS04      GS05  \\\n",
       "0  nyu winthrop hospital  CC48195094  20200604  19120100   \n",
       "1  nyu winthrop hospital  CC82439425  20200619  19201400   \n",
       "\n",
       "     BillingProviderName  ProviderNameHash BillingProviderNPI  \\\n",
       "0  NYU WINTHROP HOSPITAL  3967125298387020         1114925567   \n",
       "1  NYU WINTHROP HOSPITAL  3967125298387020         1114925567   \n",
       "\n",
       "  BillingProviderTIN ProviderAddressHash               ProviderAddressConcat  \\\n",
       "0          111633486    7539445231525890  259 FIRST STREETMINEOLANY115013957   \n",
       "1          111633486    7539445231525890  259 FIRST STREETMINEOLANY115013957   \n",
       "\n",
       "   ... ProviderBillingZip ProviderBillingZip4  PayToAddressHash  \\\n",
       "0  ...              11501                3957  7109451749141380   \n",
       "1  ...              11501                3957  7109451749141380   \n",
       "\n",
       "              PaytoAddressConcat  PayToAddress1 PayToAddressCity  \\\n",
       "0  PO BOX 412455BOSTONMA22412455  PO BOX 412455           BOSTON   \n",
       "1  PO BOX 412455BOSTONMA22412455  PO BOX 412455           BOSTON   \n",
       "\n",
       "  PayToAddressState PayToAddressZip PayToZip PayToZip4  \n",
       "0                MA        22412455    22412       455  \n",
       "1                MA        22412455    22412       455  \n",
       "\n",
       "[2 rows x 24 columns]"
      ]
     },
     "execution_count": 7,
     "metadata": {},
     "output_type": "execute_result"
    }
   ],
   "source": [
    "#First column\n",
    "cols = list(df1.columns)\n",
    "cols = [cols[-1]] + cols[:-1]\n",
    "df1 = df1[cols]\n",
    "\n",
    "df1.head(2)"
   ]
  },
  {
   "cell_type": "code",
   "execution_count": 8,
   "metadata": {},
   "outputs": [],
   "source": [
    "from sklearn.model_selection import train_test_split\n",
    "\n",
    "train, test = train_test_split(df1, test_size=.3)"
   ]
  },
  {
   "cell_type": "markdown",
   "metadata": {},
   "source": [
    "# Training dataset"
   ]
  },
  {
   "cell_type": "code",
   "execution_count": 9,
   "metadata": {},
   "outputs": [
    {
     "name": "stdout",
     "output_type": "stream",
     "text": [
      "(16613, 297)\n"
     ]
    }
   ],
   "source": [
    "idea=train.iloc[:,0:1]\n",
    "traincorpus=[]\n",
    "for index,row in idea.iterrows():\n",
    "    traincorpus.append(row['Identifier'])\n",
    "    \n",
    "    \n",
    "from sklearn.feature_extraction.text import CountVectorizer\n",
    "\n",
    "vectorizer = CountVectorizer()\n",
    "X_train = vectorizer.fit_transform(traincorpus)\n",
    "\n",
    "#vectorizer.get_feature_names()\n",
    "\n",
    "#print(X.toarray())     \n",
    "\n",
    "from sklearn.feature_extraction.text import TfidfTransformer\n",
    "\n",
    "transformer = TfidfTransformer(smooth_idf=False)\n",
    "tfidf = transformer.fit_transform(X_train)\n",
    "print(tfidf.shape )"
   ]
  },
  {
   "cell_type": "code",
   "execution_count": 10,
   "metadata": {},
   "outputs": [],
   "source": [
    "y_train=train[\"BillingProviderTIN\"]"
   ]
  },
  {
   "cell_type": "code",
   "execution_count": 13,
   "metadata": {},
   "outputs": [],
   "source": [
    "from sklearn.tree import DecisionTreeClassifier\n",
    "from sklearn.ensemble import AdaBoostClassifier\n",
    "from sklearn.ensemble import GradientBoostingClassifier"
   ]
  },
  {
   "cell_type": "code",
   "execution_count": 14,
   "metadata": {},
   "outputs": [],
   "source": [
    "# Params for Random Forest\n",
    "num_trees = 100\n",
    "max_features = 3\n",
    "\n",
    "#Spot Check 5 Algorithms (LR, LDA, KNN, CART, GNB, SVM)\n",
    "models = []\n",
    "#models.append(('LR', LogisticRegression()))\n",
    "models.append(('LDA', LinearDiscriminantAnalysis()))\n",
    "models.append(('KNN', KNeighborsClassifier()))\n",
    "models.append(('DC', DecisionTreeClassifier()))\n",
    "models.append(('NB', GaussianNB()))\n",
    "models.append(('RF', RandomForestClassifier(n_estimators=num_trees, max_features=max_features)))\n",
    "models.append(('AdaBoost', AdaBoostClassifier()))\n",
    "models.append(('GradientBoosting', GradientBoostingClassifier()))\n",
    "\n"
   ]
  },
  {
   "cell_type": "code",
   "execution_count": 15,
   "metadata": {},
   "outputs": [],
   "source": [
    "X_train=X_train.todense()"
   ]
  },
  {
   "cell_type": "code",
   "execution_count": 16,
   "metadata": {},
   "outputs": [],
   "source": [
    "validation_size = 0.20\n",
    "seed = 7\n",
    "num_folds = 10\n",
    "scoring = 'accuracy'"
   ]
  },
  {
   "cell_type": "code",
   "execution_count": 17,
   "metadata": {},
   "outputs": [
    {
     "name": "stdout",
     "output_type": "stream",
     "text": [
      "LDA: Accuracy is 0.999218 (0.001175)\n",
      "KNN: Accuracy is 0.999278 (0.000361)\n",
      "DC: Accuracy is 0.999880 (0.000241)\n",
      "NB: Accuracy is 0.941190 (0.007102)\n",
      "RF: Accuracy is 0.999880 (0.000241)\n",
      "AdaBoost: Accuracy is 0.999218 (0.000715)\n",
      "GradientBoosting: Accuracy is 0.999880 (0.000241)\n"
     ]
    }
   ],
   "source": [
    "# evalutate each model in turn\n",
    "results = []\n",
    "names = []\n",
    "for name, model in models:\n",
    "    kfold = KFold(n_splits=10, random_state=seed)\n",
    "    cv_results = cross_val_score(model, X_train, y_train, cv=kfold, scoring='accuracy')\n",
    "    results.append(cv_results)\n",
    "    names.append(name)\n",
    "    msg = \"%s: Accuracy is %f (%f)\" % (name, cv_results.mean(), cv_results.std())\n",
    "    print(msg)"
   ]
  },
  {
   "cell_type": "code",
   "execution_count": 18,
   "metadata": {},
   "outputs": [
    {
     "data": {
      "image/png": "[encoded data removed]",
      "text/plain": [
       "<Figure size 432x288 with 1 Axes>"
      ]
     },
     "metadata": {
      "needs_background": "light"
     },
     "output_type": "display_data"
    }
   ],
   "source": [
    "fig = plt.figure()\n",
    "fig.suptitle('Algorithm Comparison')\n",
    "ax = fig.add_subplot(111)\n",
    "plt.boxplot(results)\n",
    "ax.set_xticklabels(names)\n",
    "plt.show()"
   ]
  },
  {
   "cell_type": "markdown",
   "metadata": {},
   "source": [
    "# Test Data"
   ]
  },
  {
   "cell_type": "code",
   "execution_count": 19,
   "metadata": {},
   "outputs": [
    {
     "name": "stdout",
     "output_type": "stream",
     "text": [
      "(7121, 286)\n"
     ]
    }
   ],
   "source": [
    "idea=test.iloc[:,0:1]\n",
    "testcorpus=[]\n",
    "for index,row in idea.iterrows():\n",
    "    testcorpus.append(row['Identifier'])\n",
    "    \n",
    "    \n",
    "from sklearn.feature_extraction.text import CountVectorizer\n",
    "\n",
    "vectorizer = CountVectorizer()\n",
    "X_test = vectorizer.fit_transform(testcorpus)\n",
    "\n",
    "#vectorizer.get_feature_names()\n",
    "\n",
    "#print(X.toarray())     \n",
    "\n",
    "from sklearn.feature_extraction.text import TfidfTransformer\n",
    "\n",
    "transformer = TfidfTransformer(smooth_idf=False)\n",
    "tfidf = transformer.fit_transform(X_test)\n",
    "print(tfidf.shape )"
   ]
  },
  {
   "cell_type": "code",
   "execution_count": 20,
   "metadata": {},
   "outputs": [],
   "source": [
    "y_test=test[\"BillingProviderTIN\"]"
   ]
  },
  {
   "cell_type": "code",
   "execution_count": 21,
   "metadata": {},
   "outputs": [],
   "source": [
    "X_test=X_test.todense()"
   ]
  },
  {
   "cell_type": "code",
   "execution_count": 22,
   "metadata": {},
   "outputs": [
    {
     "name": "stdout",
     "output_type": "stream",
     "text": [
      "LDA: Accuracy is 0.997893 (0.001439)\n",
      "KNN: Accuracy is 0.998596 (0.000888)\n",
      "DC: Accuracy is 0.999719 (0.000562)\n",
      "NB: Accuracy is 0.999438 (0.000688)\n",
      "RF: Accuracy is 0.999719 (0.000562)\n",
      "AdaBoost: Accuracy is 0.999719 (0.000562)\n",
      "GradientBoosting: Accuracy is 0.999719 (0.000562)\n"
     ]
    }
   ],
   "source": [
    "# evalutate each model in turn\n",
    "results = []\n",
    "names = []\n",
    "for name, model in models:\n",
    "    kfold = KFold(n_splits=10, random_state=seed)\n",
    "    cv_results = cross_val_score(model, X_test, y_test, cv=kfold, scoring='accuracy')\n",
    "    results.append(cv_results)\n",
    "    names.append(name)\n",
    "    msg = \"%s: Accuracy is %f (%f)\" % (name, cv_results.mean(), cv_results.std())\n",
    "    print(msg)"
   ]
  },
  {
   "cell_type": "code",
   "execution_count": 27,
   "metadata": {},
   "outputs": [
    {
     "data": {
      "image/png": "[encoded data removed]",
      "text/plain": [
       "<Figure size 432x288 with 1 Axes>"
      ]
     },
     "metadata": {
      "needs_background": "light"
     },
     "output_type": "display_data"
    }
   ],
   "source": [
    "fig = plt.figure()\n",
    "fig.suptitle('Algorith Comparison')\n",
    "ax = fig.add_subplot(111)\n",
    "plt.boxplot(results)\n",
    "ax.set_xticklabels(names)\n",
    "plt.show()"
   ]
  },
  {
   "cell_type": "markdown",
   "metadata": {},
   "source": [
    "# Complete Datadet"
   ]
  },
  {
   "cell_type": "code",
   "execution_count": 23,
   "metadata": {},
   "outputs": [
    {
     "name": "stdout",
     "output_type": "stream",
     "text": [
      "(23734, 302)\n"
     ]
    }
   ],
   "source": [
    "idea=df1.iloc[:,0:1]\n",
    "corpus=[]\n",
    "for index,row in idea.iterrows():\n",
    "    corpus.append(row['Identifier'])\n",
    "    \n",
    "    \n",
    "from sklearn.feature_extraction.text import CountVectorizer\n",
    "\n",
    "vectorizer = CountVectorizer()\n",
    "X = vectorizer.fit_transform(corpus)\n",
    "\n",
    "#vectorizer.get_feature_names()\n",
    "\n",
    "#print(X.toarray())     \n",
    "\n",
    "from sklearn.feature_extraction.text import TfidfTransformer\n",
    "\n",
    "transformer = TfidfTransformer(smooth_idf=False)\n",
    "tfidf = transformer.fit_transform(X)\n",
    "print(tfidf.shape )"
   ]
  },
  {
   "cell_type": "code",
   "execution_count": 24,
   "metadata": {},
   "outputs": [],
   "source": [
    "y=df1[\"BillingProviderTIN\"]"
   ]
  },
  {
   "cell_type": "code",
   "execution_count": 25,
   "metadata": {},
   "outputs": [],
   "source": [
    "X=X.todense()"
   ]
  },
  {
   "cell_type": "code",
   "execution_count": 26,
   "metadata": {},
   "outputs": [
    {
     "name": "stdout",
     "output_type": "stream",
     "text": [
      "LDA: Accuracy is 0.976874 (0.067975)\n",
      "KNN: Accuracy is 0.999368 (0.001002)\n",
      "DC: Accuracy is 0.999916 (0.000253)\n",
      "NB: Accuracy is 0.959899 (0.071994)\n",
      "RF: Accuracy is 0.999916 (0.000253)\n",
      "AdaBoost: Accuracy is 0.999410 (0.001252)\n",
      "GradientBoosting: Accuracy is 0.999916 (0.000253)\n"
     ]
    }
   ],
   "source": [
    "# evalutate each model in turn\n",
    "results = []\n",
    "names = []\n",
    "for name, model in models:\n",
    "    kfold = KFold(n_splits=10, random_state=seed)\n",
    "    cv_results = cross_val_score(model, X, y, cv=kfold, scoring='accuracy')\n",
    "    results.append(cv_results)\n",
    "    names.append(name)\n",
    "    msg = \"%s: Accuracy is %f (%f)\" % (name, cv_results.mean(), cv_results.std())\n",
    "    print(msg)"
   ]
  },
  {
   "cell_type": "code",
   "execution_count": 27,
   "metadata": {},
   "outputs": [
    {
     "data": {
      "image/png": "[encoded data removed]",
      "text/plain": [
       "<Figure size 432x288 with 1 Axes>"
      ]
     },
     "metadata": {
      "needs_background": "light"
     },
     "output_type": "display_data"
    }
   ],
   "source": [
    "fig = plt.figure()\n",
    "fig.suptitle('Algorith Comparison')\n",
    "ax = fig.add_subplot(111)\n",
    "plt.boxplot(results)\n",
    "ax.set_xticklabels(names)\n",
    "plt.show()"
   ]
  },
  {
   "cell_type": "code",
   "execution_count": null,
   "metadata": {},
   "outputs": [],
   "source": []
  },
  {
   "cell_type": "code",
   "execution_count": 28,
   "metadata": {},
   "outputs": [],
   "source": [
    "# Final Model"
   ]
  },
  {
   "cell_type": "code",
   "execution_count": 29,
   "metadata": {},
   "outputs": [
    {
     "name": "stdout",
     "output_type": "stream",
     "text": [
      "                     column_name missing_data  missing_in_percentage\n",
      "0                            ICN            0               0.000000\n",
      "1                           GS04            0               0.000000\n",
      "2                           GS05            0               0.000000\n",
      "3            BillingProviderName            0               0.000000\n",
      "4               ProviderNameHash            0               0.000000\n",
      "..                           ...          ...                    ...\n",
      "78   AttendingPhysicianFirstName         6596              27.791354\n",
      "79    AttendingPhysicianLastName        15117              63.693436\n",
      "80  AttendingPhysicianMiddleName        15117              63.693436\n",
      "81         AttendingPhysicianNPI         6596              27.791354\n",
      "82    AttendingPhysicianTaxonomy        15232              64.177973\n",
      "\n",
      "[83 rows x 3 columns]\n"
     ]
    },
    {
     "data": {
      "text/html": [
       "<div>\n",
       "<style scoped>\n",
       "    .dataframe tbody tr th:only-of-type {\n",
       "        vertical-align: middle;\n",
       "    }\n",
       "\n",
       "    .dataframe tbody tr th {\n",
       "        vertical-align: top;\n",
       "    }\n",
       "\n",
       "    .dataframe thead th {\n",
       "        text-align: right;\n",
       "    }\n",
       "</style>\n",
       "<table border=\"1\" class=\"dataframe\">\n",
       "  <thead>\n",
       "    <tr style=\"text-align: right;\">\n",
       "      <th></th>\n",
       "      <th>Identifier</th>\n",
       "      <th>ICN</th>\n",
       "      <th>GS04</th>\n",
       "      <th>GS05</th>\n",
       "      <th>BillingProviderName</th>\n",
       "      <th>ProviderNameHash</th>\n",
       "      <th>BillingProviderNPI</th>\n",
       "      <th>BillingProviderTIN</th>\n",
       "      <th>ProviderAddressHash</th>\n",
       "      <th>ProviderAddressConcat</th>\n",
       "      <th>...</th>\n",
       "      <th>ProviderBillingZip</th>\n",
       "      <th>ProviderBillingZip4</th>\n",
       "      <th>PayToAddressHash</th>\n",
       "      <th>PaytoAddressConcat</th>\n",
       "      <th>PayToAddress1</th>\n",
       "      <th>PayToAddressCity</th>\n",
       "      <th>PayToAddressState</th>\n",
       "      <th>PayToAddressZip</th>\n",
       "      <th>PayToZip</th>\n",
       "      <th>PayToZip4</th>\n",
       "    </tr>\n",
       "  </thead>\n",
       "  <tbody>\n",
       "    <tr>\n",
       "      <th>0</th>\n",
       "      <td>nyu winthrop hospital</td>\n",
       "      <td>CC48195094</td>\n",
       "      <td>20200604</td>\n",
       "      <td>19120100</td>\n",
       "      <td>NYU WINTHROP HOSPITAL</td>\n",
       "      <td>3967125298387020</td>\n",
       "      <td>1114925567</td>\n",
       "      <td>111633486</td>\n",
       "      <td>7539445231525890</td>\n",
       "      <td>259 FIRST STREETMINEOLANY115013957</td>\n",
       "      <td>...</td>\n",
       "      <td>11501</td>\n",
       "      <td>3957</td>\n",
       "      <td>7109451749141380</td>\n",
       "      <td>PO BOX 412455BOSTONMA22412455</td>\n",
       "      <td>PO BOX 412455</td>\n",
       "      <td>BOSTON</td>\n",
       "      <td>MA</td>\n",
       "      <td>22412455</td>\n",
       "      <td>22412</td>\n",
       "      <td>455</td>\n",
       "    </tr>\n",
       "    <tr>\n",
       "      <th>1</th>\n",
       "      <td>nyu winthrop hospital</td>\n",
       "      <td>CC82439425</td>\n",
       "      <td>20200619</td>\n",
       "      <td>19201400</td>\n",
       "      <td>NYU WINTHROP HOSPITAL</td>\n",
       "      <td>3967125298387020</td>\n",
       "      <td>1114925567</td>\n",
       "      <td>111633486</td>\n",
       "      <td>7539445231525890</td>\n",
       "      <td>259 FIRST STREETMINEOLANY115013957</td>\n",
       "      <td>...</td>\n",
       "      <td>11501</td>\n",
       "      <td>3957</td>\n",
       "      <td>7109451749141380</td>\n",
       "      <td>PO BOX 412455BOSTONMA22412455</td>\n",
       "      <td>PO BOX 412455</td>\n",
       "      <td>BOSTON</td>\n",
       "      <td>MA</td>\n",
       "      <td>22412455</td>\n",
       "      <td>22412</td>\n",
       "      <td>455</td>\n",
       "    </tr>\n",
       "  </tbody>\n",
       "</table>\n",
       "<p>2 rows × 24 columns</p>\n",
       "</div>"
      ],
      "text/plain": [
       "              Identifier         ICN      GS04      GS05  \\\n",
       "0  nyu winthrop hospital  CC48195094  20200604  19120100   \n",
       "1  nyu winthrop hospital  CC82439425  20200619  19201400   \n",
       "\n",
       "     BillingProviderName  ProviderNameHash BillingProviderNPI  \\\n",
       "0  NYU WINTHROP HOSPITAL  3967125298387020         1114925567   \n",
       "1  NYU WINTHROP HOSPITAL  3967125298387020         1114925567   \n",
       "\n",
       "  BillingProviderTIN ProviderAddressHash               ProviderAddressConcat  \\\n",
       "0          111633486    7539445231525890  259 FIRST STREETMINEOLANY115013957   \n",
       "1          111633486    7539445231525890  259 FIRST STREETMINEOLANY115013957   \n",
       "\n",
       "   ... ProviderBillingZip ProviderBillingZip4  PayToAddressHash  \\\n",
       "0  ...              11501                3957  7109451749141380   \n",
       "1  ...              11501                3957  7109451749141380   \n",
       "\n",
       "              PaytoAddressConcat  PayToAddress1 PayToAddressCity  \\\n",
       "0  PO BOX 412455BOSTONMA22412455  PO BOX 412455           BOSTON   \n",
       "1  PO BOX 412455BOSTONMA22412455  PO BOX 412455           BOSTON   \n",
       "\n",
       "  PayToAddressState PayToAddressZip PayToZip PayToZip4  \n",
       "0                MA        22412455    22412       455  \n",
       "1                MA        22412455    22412       455  \n",
       "\n",
       "[2 rows x 24 columns]"
      ]
     },
     "execution_count": 29,
     "metadata": {},
     "output_type": "execute_result"
    }
   ],
   "source": [
    "data=pd.read_excel(\"nyuEDISample.xlsx\",dtype=str)\n",
    "\n",
    "round((data.isnull().sum()*100)/len(data),2)\n",
    "\n",
    "def miss_data(df):\n",
    "    x = ['column_name','missing_data', 'missing_in_percentage']\n",
    "    missing_data = pd.DataFrame(columns=x)\n",
    "    columns = df.columns\n",
    "    for col in columns:\n",
    "        icolumn_name = col\n",
    "        imissing_data = df[col].isnull().sum()\n",
    "        imissing_in_percentage = (df[col].isnull().sum()/df[col].shape[0])*100\n",
    "\n",
    "        missing_data.loc[len(missing_data)] = [icolumn_name, imissing_data, imissing_in_percentage]\n",
    "    print(missing_data)\n",
    "    \n",
    "miss_data(data)\n",
    "\n",
    "limitPer = len(data) * .80\n",
    "df1 = data.dropna(thresh=limitPer,axis=1)\n",
    "\n",
    "df1=df1.fillna(\"NA\")\n",
    "df1['Identifier'] = df1[\"BillingProviderName\"].str.lower()\n",
    "df1['Identifier']=df1['Identifier'].astype(str)\n",
    "\n",
    "#First column\n",
    "cols = list(df1.columns)\n",
    "cols = [cols[-1]] + cols[:-1]\n",
    "df1 = df1[cols]\n",
    "\n",
    "df1.head(2)"
   ]
  },
  {
   "cell_type": "code",
   "execution_count": 30,
   "metadata": {},
   "outputs": [],
   "source": [
    "from sklearn.model_selection import train_test_split\n",
    "\n",
    "train, test = train_test_split(df1, test_size=.3)"
   ]
  },
  {
   "cell_type": "code",
   "execution_count": 31,
   "metadata": {},
   "outputs": [
    {
     "name": "stdout",
     "output_type": "stream",
     "text": [
      "(16613, 292)\n"
     ]
    }
   ],
   "source": [
    "idea=train.iloc[:,0:1]\n",
    "trainn=[]\n",
    "for index,row in idea.iterrows():\n",
    "    trainn.append(row['Identifier'])\n",
    "    \n",
    "    \n",
    "from sklearn.feature_extraction.text import CountVectorizer\n",
    "\n",
    "vectorizer = CountVectorizer()\n",
    "xtrain = vectorizer.fit_transform(trainn)\n",
    "\n",
    "#vectorizer.get_feature_names()\n",
    "\n",
    "#print(X.toarray())     \n",
    "\n",
    "from sklearn.feature_extraction.text import TfidfTransformer\n",
    "\n",
    "transformer = TfidfTransformer(smooth_idf=False)\n",
    "tfidf = transformer.fit_transform(xtrain)\n",
    "print(tfidf.shape )"
   ]
  },
  {
   "cell_type": "code",
   "execution_count": 32,
   "metadata": {},
   "outputs": [],
   "source": [
    "ytrain=train[\"BillingProviderTIN\"]"
   ]
  },
  {
   "cell_type": "code",
   "execution_count": 33,
   "metadata": {},
   "outputs": [
    {
     "data": {
      "text/plain": [
       "KNeighborsClassifier(algorithm='auto', leaf_size=30, metric='minkowski',\n",
       "           metric_params=None, n_jobs=None, n_neighbors=5, p=2,\n",
       "           weights='uniform')"
      ]
     },
     "execution_count": 33,
     "metadata": {},
     "output_type": "execute_result"
    }
   ],
   "source": [
    "# Clustering the document with KNN classifier\n",
    "modelknn = KNeighborsClassifier(n_neighbors=5)\n",
    "modelknn.fit(xtrain,ytrain)"
   ]
  },
  {
   "cell_type": "code",
   "execution_count": 34,
   "metadata": {},
   "outputs": [],
   "source": [
    "idea=df1.iloc[:,0:1]\n",
    "corpusnew=[]\n",
    "for index,row in idea.iterrows():\n",
    "    corpusnew.append(row['Identifier'])"
   ]
  },
  {
   "cell_type": "code",
   "execution_count": 36,
   "metadata": {},
   "outputs": [
    {
     "data": {
      "text/plain": [
       "23734"
      ]
     },
     "execution_count": 36,
     "metadata": {},
     "output_type": "execute_result"
    }
   ],
   "source": [
    "len(corpusnew)"
   ]
  },
  {
   "cell_type": "code",
   "execution_count": 37,
   "metadata": {},
   "outputs": [],
   "source": [
    "Test22 = vectorizer.transform(corpusnew)"
   ]
  },
  {
   "cell_type": "code",
   "execution_count": 38,
   "metadata": {},
   "outputs": [
    {
     "name": "stdout",
     "output_type": "stream",
     "text": [
      " These entitiy belongs to   ['133971298' '133971298' '133971298']\n"
     ]
    }
   ],
   "source": [
    "prediction = modelknn.predict(Test22)\n",
    "print(\" These entitiy belongs to  \", prediction[0:3])"
   ]
  },
  {
   "cell_type": "code",
   "execution_count": 39,
   "metadata": {},
   "outputs": [
    {
     "name": "stdout",
     "output_type": "stream",
     "text": [
      "\n",
      "\n",
      "                                                  Identifier    Cluster\n",
      "133971298                              nyu winthrop hospital  133971298\n",
      "133971298                              nyu winthrop hospital  133971298\n",
      "133971298             nyu winthrop hospital home care agency  133971298\n",
      "133971298                        nyu langone hospitals tisch  133971298\n",
      "133971298                        nyu langone hospitals tisch  133971298\n",
      "...                                                      ...        ...\n",
      "135562308                           nyu nassau gi associates  135562308\n",
      "135562308                     nyu gastroenterology associate  135562308\n",
      "135562308                  nyu emergency medicine associates  135562308\n",
      "135562308             winthrop geriatric medicine associates  135562308\n",
      "135562308  nyu langone women's health associates-new hyde...  135562308\n",
      "\n",
      "[23734 rows x 2 columns]\n",
      "\n",
      "\n",
      "135562308    14988\n",
      "133971298     8746\n",
      "Name: Cluster, dtype: int64\n"
     ]
    }
   ],
   "source": [
    "idea={'Identifier':corpus, 'Cluster':prediction} #Creating dict having doc with the corresponding cluster number.\n",
    "frame=pd.DataFrame(idea,index=[prediction], columns=['Identifier','Cluster']) # Converting it into a dataframe.\n",
    "\n",
    "print(\"\\n\")\n",
    "print(frame) #Print the doc with the labeled cluster number.\n",
    "print(\"\\n\")\n",
    "print(frame['Cluster'].value_counts()) #Print the counts of doc belonging to each cluster."
   ]
  },
  {
   "cell_type": "code",
   "execution_count": 40,
   "metadata": {},
   "outputs": [],
   "source": [
    "df1['Cluster'] = prediction"
   ]
  },
  {
   "cell_type": "code",
   "execution_count": 41,
   "metadata": {},
   "outputs": [],
   "source": [
    "df1.to_excel (r'C:\\Users\\rbalani1\\Desktop\\EEM\\06NYU\\NYU_predicted2.xlsx', index = False, header=True)"
   ]
  },
  {
   "cell_type": "code",
   "execution_count": 42,
   "metadata": {},
   "outputs": [],
   "source": [
    "y_pred=df1[\"BillingProviderTIN\"]"
   ]
  },
  {
   "cell_type": "code",
   "execution_count": 43,
   "metadata": {},
   "outputs": [
    {
     "name": "stdout",
     "output_type": "stream",
     "text": [
      "0.9991994606893064\n"
     ]
    }
   ],
   "source": [
    "# calculate accuracy\n",
    "from sklearn import metrics\n",
    "print(metrics.accuracy_score(y_pred, prediction))"
   ]
  },
  {
   "cell_type": "code",
   "execution_count": null,
   "metadata": {},
   "outputs": [],
   "source": []
  },
  {
   "cell_type": "code",
   "execution_count": null,
   "metadata": {},
   "outputs": [],
   "source": []
  },
  {
   "cell_type": "code",
   "execution_count": null,
   "metadata": {},
   "outputs": [],
   "source": []
  }
 ],
 "metadata": {
  "kernelspec": {
   "display_name": "Python 3",
   "language": "python",
   "name": "python3"
  },
  "language_info": {
   "codemirror_mode": {
    "name": "ipython",
    "version": 3
   },
   "file_extension": ".py",
   "mimetype": "text/x-python",
   "name": "python",
   "nbconvert_exporter": "python",
   "pygments_lexer": "ipython3",
   "version": "3.6.10"
  }
 },
 "nbformat": 4,
 "nbformat_minor": 2
}
