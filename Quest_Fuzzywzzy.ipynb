{
 "cells": [
  {
   "cell_type": "code",
   "execution_count": 11,
   "metadata": {},
   "outputs": [],
   "source": [
    "import numpy as np\n",
    "import pandas as pd\n",
    "import os\n",
    "\n",
    "from fuzzywuzzy import fuzz\n",
    "from fuzzywuzzy import process\n",
    "\n",
    "import recordlinkage as rl\n",
    "from recordlinkage.preprocessing import clean, phonetic"
   ]
  },
  {
   "cell_type": "code",
   "execution_count": 2,
   "metadata": {},
   "outputs": [],
   "source": [
    "df=pd.read_excel(\"NPPES_download.xlsx\",dtype=str) # NPPES data"
   ]
  },
  {
   "cell_type": "code",
   "execution_count": 64,
   "metadata": {},
   "outputs": [],
   "source": [
    "df1=pd.read_excel(\"Quest_master.xlsx\",dtype=str)    # Quest Heirarcy data\n",
    "df2=pd.read_excel(\"Dun_Quest.xlsx\",dtype=str)       # Dun data  \n",
    "df3=pd.read_excel(\"Def_Quest.xlsx\",dtype=str)       # Def data"
   ]
  },
  {
   "cell_type": "code",
   "execution_count": 65,
   "metadata": {},
   "outputs": [],
   "source": [
    "def miss_data(df):\n",
    "    x = ['column_name','missing_data', 'missing_in_percentage']\n",
    "    missing_data = pd.DataFrame(columns=x)\n",
    "    columns = df.columns\n",
    "    for col in columns:\n",
    "        icolumn_name = col\n",
    "        imissing_data = df[col].isnull().sum()\n",
    "        imissing_in_percentage = (df[col].isnull().sum()/df[col].shape[0])*100\n",
    "\n",
    "        missing_data.loc[len(missing_data)] = [icolumn_name, imissing_data, imissing_in_percentage]\n",
    "    print(missing_data)"
   ]
  },
  {
   "cell_type": "code",
   "execution_count": 66,
   "metadata": {},
   "outputs": [],
   "source": [
    "limitPer = len(df) * .80\n",
    "df = df.dropna(thresh=limitPer,axis=1)"
   ]
  },
  {
   "cell_type": "code",
   "execution_count": 67,
   "metadata": {},
   "outputs": [],
   "source": [
    "limitPer = len(df1) * .80\n",
    "df1 = df1.dropna(thresh=limitPer,axis=1)"
   ]
  },
  {
   "cell_type": "code",
   "execution_count": 68,
   "metadata": {},
   "outputs": [],
   "source": [
    "limitPer = len(df2) * .80\n",
    "df2 = df2.dropna(thresh=limitPer,axis=1)"
   ]
  },
  {
   "cell_type": "code",
   "execution_count": 69,
   "metadata": {},
   "outputs": [],
   "source": [
    "limitPer = len(df3) * .80\n",
    "df3 = df3.dropna(thresh=limitPer,axis=1)"
   ]
  },
  {
   "cell_type": "code",
   "execution_count": 70,
   "metadata": {},
   "outputs": [],
   "source": [
    "df2=df2.fillna(\"NA\")"
   ]
  },
  {
   "cell_type": "code",
   "execution_count": 71,
   "metadata": {},
   "outputs": [
    {
     "name": "stdout",
     "output_type": "stream",
     "text": [
      "(41, 11)\n",
      "TIN ---> Unique values= 41 |||| NA Values= 0 |||type= object\n",
      "Src ---> Unique values= 1 |||| NA Values= 0 |||type= object\n",
      "L1 ---> Unique values= 1 |||| NA Values= 0 |||type= object\n",
      "L2 ---> Unique values= 17 |||| NA Values= 0 |||type= object\n",
      "L3 ---> Unique values= 17 |||| NA Values= 0 |||type= object\n",
      "L4 ---> Unique values= 11 |||| NA Values= 0 |||type= object\n",
      "Name ---> Unique values= 27 |||| NA Values= 0 |||type= object\n",
      "orig_adr1 ---> Unique values= 37 |||| NA Values= 0 |||type= object\n",
      "orig_city ---> Unique values= 36 |||| NA Values= 0 |||type= object\n",
      "orig_state ---> Unique values= 20 |||| NA Values= 0 |||type= object\n",
      "orig_zip ---> Unique values= 37 |||| NA Values= 0 |||type= object\n"
     ]
    }
   ],
   "source": [
    "print(df2.shape)\n",
    "for i in df2.columns:\n",
    "    print(i, \"---> Unique values=\", df2[i].nunique(),\"|||| NA Values=\", sum(pd.isnull(df2[i])), \"|||type=\", df2[i].dtype)"
   ]
  },
  {
   "cell_type": "code",
   "execution_count": 58,
   "metadata": {},
   "outputs": [
    {
     "data": {
      "text/html": [
       "<div>\n",
       "<style scoped>\n",
       "    .dataframe tbody tr th:only-of-type {\n",
       "        vertical-align: middle;\n",
       "    }\n",
       "\n",
       "    .dataframe tbody tr th {\n",
       "        vertical-align: top;\n",
       "    }\n",
       "\n",
       "    .dataframe thead th {\n",
       "        text-align: right;\n",
       "    }\n",
       "</style>\n",
       "<table border=\"1\" class=\"dataframe\">\n",
       "  <thead>\n",
       "    <tr style=\"text-align: right;\">\n",
       "      <th></th>\n",
       "      <th>NPI</th>\n",
       "      <th>Name</th>\n",
       "      <th>Is_Org_Subpart</th>\n",
       "      <th>Business_Adr1</th>\n",
       "      <th>Business_City</th>\n",
       "      <th>Business_State</th>\n",
       "      <th>Business_Zip</th>\n",
       "      <th>Business_Phone</th>\n",
       "      <th>Practice_Adr1</th>\n",
       "      <th>Practice_City</th>\n",
       "      <th>Practice_State</th>\n",
       "      <th>Practice_Zip</th>\n",
       "      <th>Practice_Phone</th>\n",
       "      <th>Official_Name_First</th>\n",
       "      <th>Official_Name_Last</th>\n",
       "      <th>Official_Position</th>\n",
       "      <th>Official_Phone</th>\n",
       "      <th>Taxonomy_Code</th>\n",
       "    </tr>\n",
       "  </thead>\n",
       "  <tbody>\n",
       "    <tr>\n",
       "      <th>0</th>\n",
       "      <td>1356732473</td>\n",
       "      <td>PLANNED PARENTHOOD OF NORTHERN NEW ENGLAND</td>\n",
       "      <td>N</td>\n",
       "      <td>128 LAKESIDE AVE STE 301</td>\n",
       "      <td>BURLINGTON</td>\n",
       "      <td>VT</td>\n",
       "      <td>054015906</td>\n",
       "      <td>8024489719</td>\n",
       "      <td>501 PORTLAND ST</td>\n",
       "      <td>ST JOHNSBURY</td>\n",
       "      <td>VT</td>\n",
       "      <td>058192054</td>\n",
       "      <td>8027517821</td>\n",
       "      <td>ANASTASIA</td>\n",
       "      <td>GREER</td>\n",
       "      <td>CREDENTIALING COORDINATOR</td>\n",
       "      <td>8024489719</td>\n",
       "      <td>332900000X</td>\n",
       "    </tr>\n",
       "    <tr>\n",
       "      <th>1</th>\n",
       "      <td>1962893099</td>\n",
       "      <td>NJ ANESTHESIA PARTNERS, LLC</td>\n",
       "      <td>N</td>\n",
       "      <td>PO BOX 7135</td>\n",
       "      <td>COLONIA</td>\n",
       "      <td>NJ</td>\n",
       "      <td>070677135</td>\n",
       "      <td>9083585140</td>\n",
       "      <td>433 HACKENSACK AVE</td>\n",
       "      <td>HACKENSACK</td>\n",
       "      <td>NJ</td>\n",
       "      <td>076016319</td>\n",
       "      <td>2015276800</td>\n",
       "      <td>ROBERT</td>\n",
       "      <td>VILLEGAS</td>\n",
       "      <td>OPERATING MANAGER</td>\n",
       "      <td>9083585140</td>\n",
       "      <td>207L00000X</td>\n",
       "    </tr>\n",
       "  </tbody>\n",
       "</table>\n",
       "</div>"
      ],
      "text/plain": [
       "          NPI                                        Name Is_Org_Subpart  \\\n",
       "0  1356732473  PLANNED PARENTHOOD OF NORTHERN NEW ENGLAND              N   \n",
       "1  1962893099                 NJ ANESTHESIA PARTNERS, LLC              N   \n",
       "\n",
       "              Business_Adr1 Business_City Business_State Business_Zip  \\\n",
       "0  128 LAKESIDE AVE STE 301    BURLINGTON             VT    054015906   \n",
       "1               PO BOX 7135       COLONIA             NJ    070677135   \n",
       "\n",
       "  Business_Phone       Practice_Adr1 Practice_City Practice_State  \\\n",
       "0     8024489719     501 PORTLAND ST  ST JOHNSBURY             VT   \n",
       "1     9083585140  433 HACKENSACK AVE    HACKENSACK             NJ   \n",
       "\n",
       "  Practice_Zip Practice_Phone Official_Name_First Official_Name_Last  \\\n",
       "0    058192054     8027517821           ANASTASIA              GREER   \n",
       "1    076016319     2015276800              ROBERT           VILLEGAS   \n",
       "\n",
       "           Official_Position Official_Phone Taxonomy_Code  \n",
       "0  CREDENTIALING COORDINATOR     8024489719    332900000X  \n",
       "1          OPERATING MANAGER     9083585140    207L00000X  "
      ]
     },
     "execution_count": 58,
     "metadata": {},
     "output_type": "execute_result"
    }
   ],
   "source": [
    "df.head(2)"
   ]
  },
  {
   "cell_type": "code",
   "execution_count": 59,
   "metadata": {},
   "outputs": [
    {
     "data": {
      "text/html": [
       "<div>\n",
       "<style scoped>\n",
       "    .dataframe tbody tr th:only-of-type {\n",
       "        vertical-align: middle;\n",
       "    }\n",
       "\n",
       "    .dataframe tbody tr th {\n",
       "        vertical-align: top;\n",
       "    }\n",
       "\n",
       "    .dataframe thead th {\n",
       "        text-align: right;\n",
       "    }\n",
       "</style>\n",
       "<table border=\"1\" class=\"dataframe\">\n",
       "  <thead>\n",
       "    <tr style=\"text-align: right;\">\n",
       "      <th></th>\n",
       "      <th>bic_id</th>\n",
       "      <th>bic_name</th>\n",
       "      <th>ndb_name</th>\n",
       "      <th>src</th>\n",
       "      <th>Name</th>\n",
       "      <th>OtherName</th>\n",
       "      <th>tin</th>\n",
       "      <th>orig_adr1</th>\n",
       "      <th>orig_city</th>\n",
       "      <th>orig_state</th>\n",
       "      <th>orig_zip</th>\n",
       "      <th>orig_zip5</th>\n",
       "      <th>orig_zip4</th>\n",
       "    </tr>\n",
       "  </thead>\n",
       "  <tbody>\n",
       "    <tr>\n",
       "      <th>0</th>\n",
       "      <td>NaN</td>\n",
       "      <td>NaN</td>\n",
       "      <td>NaN</td>\n",
       "      <td>D&amp;B</td>\n",
       "      <td>Unilab Corporation</td>\n",
       "      <td>Quest Diagnostics</td>\n",
       "      <td>954415490</td>\n",
       "      <td>8401 Fallbrook Ave</td>\n",
       "      <td>West Hills</td>\n",
       "      <td>CA</td>\n",
       "      <td>913043226</td>\n",
       "      <td>91304</td>\n",
       "      <td>3226</td>\n",
       "    </tr>\n",
       "    <tr>\n",
       "      <th>1</th>\n",
       "      <td>NaN</td>\n",
       "      <td>NaN</td>\n",
       "      <td>QUEST DIAGNOSTICS</td>\n",
       "      <td>D&amp;B</td>\n",
       "      <td>Labone, Inc.</td>\n",
       "      <td>ExamOne, Quest Diagnostics</td>\n",
       "      <td>480952323</td>\n",
       "      <td>10101 Renner Blvd</td>\n",
       "      <td>Lenexa</td>\n",
       "      <td>KS</td>\n",
       "      <td>662199752</td>\n",
       "      <td>66219</td>\n",
       "      <td>9752</td>\n",
       "    </tr>\n",
       "  </tbody>\n",
       "</table>\n",
       "</div>"
      ],
      "text/plain": [
       "  bic_id bic_name           ndb_name  src                Name  \\\n",
       "0    NaN      NaN                NaN  D&B  Unilab Corporation   \n",
       "1    NaN      NaN  QUEST DIAGNOSTICS  D&B        Labone, Inc.   \n",
       "\n",
       "                    OtherName        tin           orig_adr1   orig_city  \\\n",
       "0           Quest Diagnostics  954415490  8401 Fallbrook Ave  West Hills   \n",
       "1  ExamOne, Quest Diagnostics  480952323   10101 Renner Blvd      Lenexa   \n",
       "\n",
       "  orig_state   orig_zip orig_zip5 orig_zip4  \n",
       "0         CA  913043226     91304      3226  \n",
       "1         KS  662199752     66219      9752  "
      ]
     },
     "execution_count": 59,
     "metadata": {},
     "output_type": "execute_result"
    }
   ],
   "source": [
    "df1.head(2)"
   ]
  },
  {
   "cell_type": "code",
   "execution_count": 60,
   "metadata": {},
   "outputs": [
    {
     "data": {
      "text/html": [
       "<div>\n",
       "<style scoped>\n",
       "    .dataframe tbody tr th:only-of-type {\n",
       "        vertical-align: middle;\n",
       "    }\n",
       "\n",
       "    .dataframe tbody tr th {\n",
       "        vertical-align: top;\n",
       "    }\n",
       "\n",
       "    .dataframe thead th {\n",
       "        text-align: right;\n",
       "    }\n",
       "</style>\n",
       "<table border=\"1\" class=\"dataframe\">\n",
       "  <thead>\n",
       "    <tr style=\"text-align: right;\">\n",
       "      <th></th>\n",
       "      <th>TIN</th>\n",
       "      <th>Src</th>\n",
       "      <th>L1</th>\n",
       "      <th>L2</th>\n",
       "      <th>L3</th>\n",
       "      <th>L4</th>\n",
       "      <th>Name</th>\n",
       "      <th>orig_adr1</th>\n",
       "      <th>orig_city</th>\n",
       "      <th>orig_state</th>\n",
       "      <th>orig_zip</th>\n",
       "    </tr>\n",
       "  </thead>\n",
       "  <tbody>\n",
       "    <tr>\n",
       "      <th>0</th>\n",
       "      <td>161387862</td>\n",
       "      <td>Dun</td>\n",
       "      <td>Quest Diagnostics Incorporated</td>\n",
       "      <td>NA</td>\n",
       "      <td>NA</td>\n",
       "      <td>NA</td>\n",
       "      <td>Quest Diagnostics Incorporated</td>\n",
       "      <td>500 Plaza Dr Ste G</td>\n",
       "      <td>Secaucus</td>\n",
       "      <td>NJ</td>\n",
       "      <td>07094-3656</td>\n",
       "    </tr>\n",
       "    <tr>\n",
       "      <th>1</th>\n",
       "      <td>954415490</td>\n",
       "      <td>Dun</td>\n",
       "      <td>Quest Diagnostics Incorporated</td>\n",
       "      <td>Unilab Corporation</td>\n",
       "      <td>NA</td>\n",
       "      <td>NA</td>\n",
       "      <td>Unilab Corporation</td>\n",
       "      <td>8401 Fallbrook Ave</td>\n",
       "      <td>West Hills</td>\n",
       "      <td>CA</td>\n",
       "      <td>91304-3226</td>\n",
       "    </tr>\n",
       "  </tbody>\n",
       "</table>\n",
       "</div>"
      ],
      "text/plain": [
       "         TIN  Src                              L1                  L2  L3  L4  \\\n",
       "0  161387862  Dun  Quest Diagnostics Incorporated                  NA  NA  NA   \n",
       "1  954415490  Dun  Quest Diagnostics Incorporated  Unilab Corporation  NA  NA   \n",
       "\n",
       "                             Name           orig_adr1   orig_city orig_state  \\\n",
       "0  Quest Diagnostics Incorporated  500 Plaza Dr Ste G    Secaucus         NJ   \n",
       "1              Unilab Corporation  8401 Fallbrook Ave  West Hills         CA   \n",
       "\n",
       "     orig_zip  \n",
       "0  07094-3656  \n",
       "1  91304-3226  "
      ]
     },
     "execution_count": 60,
     "metadata": {},
     "output_type": "execute_result"
    }
   ],
   "source": [
    "df2.head(2)"
   ]
  },
  {
   "cell_type": "code",
   "execution_count": 61,
   "metadata": {},
   "outputs": [
    {
     "data": {
      "text/html": [
       "<div>\n",
       "<style scoped>\n",
       "    .dataframe tbody tr th:only-of-type {\n",
       "        vertical-align: middle;\n",
       "    }\n",
       "\n",
       "    .dataframe tbody tr th {\n",
       "        vertical-align: top;\n",
       "    }\n",
       "\n",
       "    .dataframe thead th {\n",
       "        text-align: right;\n",
       "    }\n",
       "</style>\n",
       "<table border=\"1\" class=\"dataframe\">\n",
       "  <thead>\n",
       "    <tr style=\"text-align: right;\">\n",
       "      <th></th>\n",
       "      <th>NPI_NUMBER</th>\n",
       "      <th>HOSPITAL_ID</th>\n",
       "      <th>HOSPITAL_NAME</th>\n",
       "      <th>FIRM_TYPE</th>\n",
       "      <th>COMPANY_STATUS</th>\n",
       "      <th>HQ_ADDRESS</th>\n",
       "      <th>HQ_CITY</th>\n",
       "      <th>HQ_STATE</th>\n",
       "      <th>HQ_ZIP_CODE</th>\n",
       "      <th>HQ_COUNTY</th>\n",
       "      <th>HQ_PHONE</th>\n",
       "      <th>HQ_LATITUDE</th>\n",
       "      <th>HQ_LONGITUDE</th>\n",
       "      <th>NETWORK_ID</th>\n",
       "      <th>NETWORK_PARENT_ID</th>\n",
       "      <th>HOSPITAL_PARENT_ID</th>\n",
       "      <th>SF_PARENT_ACCOUNT_ID</th>\n",
       "    </tr>\n",
       "  </thead>\n",
       "  <tbody>\n",
       "    <tr>\n",
       "      <th>0</th>\n",
       "      <td>1972961415</td>\n",
       "      <td>61277</td>\n",
       "      <td>Governors Ridge</td>\n",
       "      <td>Assisted Living Facility</td>\n",
       "      <td>Active</td>\n",
       "      <td>300 E Devereaux St</td>\n",
       "      <td>Decatur</td>\n",
       "      <td>TX</td>\n",
       "      <td>76234</td>\n",
       "      <td>TX - Wise</td>\n",
       "      <td>9406271104</td>\n",
       "      <td>33</td>\n",
       "      <td>-98</td>\n",
       "      <td>36038</td>\n",
       "      <td>0</td>\n",
       "      <td>0</td>\n",
       "      <td>36038</td>\n",
       "    </tr>\n",
       "    <tr>\n",
       "      <th>1</th>\n",
       "      <td>1720311665</td>\n",
       "      <td>75407</td>\n",
       "      <td>Brookdale Tequesta - 205 Village Blvd</td>\n",
       "      <td>Assisted Living Facility</td>\n",
       "      <td>Active</td>\n",
       "      <td>205 Village Blvd</td>\n",
       "      <td>Tequesta</td>\n",
       "      <td>FL</td>\n",
       "      <td>33469</td>\n",
       "      <td>FL - Palm Beach</td>\n",
       "      <td>5617483611</td>\n",
       "      <td>27</td>\n",
       "      <td>-80</td>\n",
       "      <td>581990</td>\n",
       "      <td>0</td>\n",
       "      <td>0</td>\n",
       "      <td>581990</td>\n",
       "    </tr>\n",
       "  </tbody>\n",
       "</table>\n",
       "</div>"
      ],
      "text/plain": [
       "   NPI_NUMBER HOSPITAL_ID                          HOSPITAL_NAME  \\\n",
       "0  1972961415       61277                        Governors Ridge   \n",
       "1  1720311665       75407  Brookdale Tequesta - 205 Village Blvd   \n",
       "\n",
       "                  FIRM_TYPE COMPANY_STATUS          HQ_ADDRESS   HQ_CITY  \\\n",
       "0  Assisted Living Facility         Active  300 E Devereaux St   Decatur   \n",
       "1  Assisted Living Facility         Active    205 Village Blvd  Tequesta   \n",
       "\n",
       "  HQ_STATE HQ_ZIP_CODE        HQ_COUNTY    HQ_PHONE HQ_LATITUDE HQ_LONGITUDE  \\\n",
       "0       TX       76234        TX - Wise  9406271104          33          -98   \n",
       "1       FL       33469  FL - Palm Beach  5617483611          27          -80   \n",
       "\n",
       "  NETWORK_ID NETWORK_PARENT_ID HOSPITAL_PARENT_ID SF_PARENT_ACCOUNT_ID  \n",
       "0      36038                 0                  0                36038  \n",
       "1     581990                 0                  0               581990  "
      ]
     },
     "execution_count": 61,
     "metadata": {},
     "output_type": "execute_result"
    }
   ],
   "source": [
    "df3.head(2)"
   ]
  },
  {
   "cell_type": "code",
   "execution_count": null,
   "metadata": {},
   "outputs": [],
   "source": []
  },
  {
   "cell_type": "code",
   "execution_count": 62,
   "metadata": {},
   "outputs": [],
   "source": [
    "def fuzz_match(col_name1, col_name2, cutoff):\n",
    "    # col_name1: supposed to be matched against col_name2\n",
    "    # cutoff:  used as a benchmark(score out of 100)\n",
    "    # Making sure col_name1 do not have None value\n",
    "    \n",
    "    col_name1 = col_name1.fillna('None')\n",
    "\n",
    "        \n",
    "        \n",
    "    list2 = []\n",
    "    for i in col_name1:\n",
    "        match_res2 = process.extractOne(i, col_name2, scorer = fuzz.ratio, score_cutoff=cutoff)\n",
    "        list2.append(match_res2)\n",
    "    # Using two fuzz method to improve accuracy\n",
    "    \n",
    "    lists = [[] for i in range(4)]\n",
    "\n",
    "\n",
    "    for i in list2:\n",
    "        if i==None:\n",
    "            lists[2].append(None)\n",
    "            lists[3].append(None)\n",
    "        else:\n",
    "            lists[2].append(i[0])\n",
    "            lists[3].append(i[1])\n",
    "            \n",
    "    match = pd.DataFrame()\n",
    "    match['origin'] = col_name1.reset_index(drop = True) # Pay attention to the index of col_name1\n",
    "    match['ratio_match'] = pd.Series(lists[2])\n",
    "    match['score2'] = pd.Series(lists[3])\n",
    "    return match"
   ]
  },
  {
   "cell_type": "code",
   "execution_count": 18,
   "metadata": {},
   "outputs": [],
   "source": [
    "output1 = fuzz_match(col_name1 = df['Name'], col_name2 = df3['HOSPITAL_NAME'], cutoff=85)\n",
    "output2 = fuzz_match(col_name1 = df['Business_Adr1'], col_name2 = df3['HQ_ADDRESS'], cutoff=70)\n",
    "output3 = fuzz_match(col_name1 = df['Business_City'], col_name2 = df3['HQ_CITY'], cutoff=70)\n",
    "output4 = fuzz_match(col_name1 = df['Business_State'], col_name2 = df3['HQ_STATE'], cutoff=70)\n",
    "output5 = fuzz_match(col_name1 = df['Business_Zip'], col_name2 = df3['HQ_ZIP_CODE'], cutoff=70)\n",
    "output6 = fuzz_match(col_name1 = df['NPI'], col_name2 = df3['NPI_NUMBER'], cutoff=85)\n",
    "#output7 = fuzz_match(col_name1 = df2['Billing_Adr1'], col_name2 = df3['HQ_ADDRESS'], cutoff=70)\n",
    "#output8 = fuzz_match(col_name1 = df2['Billing_City'], col_name2 = df3['HQ_CITY'], cutoff=70)\n",
    "#output9 = fuzz_match(col_name1 = df2['Billing_State'], col_name2 = df3['HQ_STATE'], cutoff=70)\n",
    "#output10 = fuzz_match(col_name1 = df2['Billing_Zip'], col_name2 = df3['HQ_ZIP_CODE'], cutoff=70)"
   ]
  },
  {
   "cell_type": "code",
   "execution_count": 72,
   "metadata": {},
   "outputs": [
    {
     "ename": "TypeError",
     "evalue": "expected string or bytes-like object",
     "output_type": "error",
     "traceback": [
      "\u001b[1;31m---------------------------------------------------------------------------\u001b[0m",
      "\u001b[1;31mTypeError\u001b[0m                                 Traceback (most recent call last)",
      "\u001b[1;32m<ipython-input-72-0776d8c9590c>\u001b[0m in \u001b[0;36m<module>\u001b[1;34m\u001b[0m\n\u001b[1;32m----> 1\u001b[1;33m \u001b[0moutput12\u001b[0m \u001b[1;33m=\u001b[0m \u001b[0mfuzz_match\u001b[0m\u001b[1;33m(\u001b[0m\u001b[0mcol_name1\u001b[0m \u001b[1;33m=\u001b[0m \u001b[0mdf\u001b[0m\u001b[1;33m[\u001b[0m\u001b[1;34m'Business_Phone'\u001b[0m\u001b[1;33m]\u001b[0m\u001b[1;33m,\u001b[0m \u001b[0mcol_name2\u001b[0m \u001b[1;33m=\u001b[0m \u001b[0mdf3\u001b[0m\u001b[1;33m[\u001b[0m\u001b[1;34m'HQ_PHONE'\u001b[0m\u001b[1;33m]\u001b[0m\u001b[1;33m,\u001b[0m \u001b[0mcutoff\u001b[0m\u001b[1;33m=\u001b[0m\u001b[1;36m85\u001b[0m\u001b[1;33m)\u001b[0m\u001b[1;33m\u001b[0m\u001b[1;33m\u001b[0m\u001b[0m\n\u001b[0m",
      "\u001b[1;32m<ipython-input-62-89039ba4cf65>\u001b[0m in \u001b[0;36mfuzz_match\u001b[1;34m(col_name1, col_name2, cutoff)\u001b[0m\n\u001b[0;32m     10\u001b[0m     \u001b[0mlist2\u001b[0m \u001b[1;33m=\u001b[0m \u001b[1;33m[\u001b[0m\u001b[1;33m]\u001b[0m\u001b[1;33m\u001b[0m\u001b[1;33m\u001b[0m\u001b[0m\n\u001b[0;32m     11\u001b[0m     \u001b[1;32mfor\u001b[0m \u001b[0mi\u001b[0m \u001b[1;32min\u001b[0m \u001b[0mcol_name1\u001b[0m\u001b[1;33m:\u001b[0m\u001b[1;33m\u001b[0m\u001b[1;33m\u001b[0m\u001b[0m\n\u001b[1;32m---> 12\u001b[1;33m         \u001b[0mmatch_res2\u001b[0m \u001b[1;33m=\u001b[0m \u001b[0mprocess\u001b[0m\u001b[1;33m.\u001b[0m\u001b[0mextractOne\u001b[0m\u001b[1;33m(\u001b[0m\u001b[0mi\u001b[0m\u001b[1;33m,\u001b[0m \u001b[0mcol_name2\u001b[0m\u001b[1;33m,\u001b[0m \u001b[0mscorer\u001b[0m \u001b[1;33m=\u001b[0m \u001b[0mfuzz\u001b[0m\u001b[1;33m.\u001b[0m\u001b[0mratio\u001b[0m\u001b[1;33m,\u001b[0m \u001b[0mscore_cutoff\u001b[0m\u001b[1;33m=\u001b[0m\u001b[0mcutoff\u001b[0m\u001b[1;33m)\u001b[0m\u001b[1;33m\u001b[0m\u001b[1;33m\u001b[0m\u001b[0m\n\u001b[0m\u001b[0;32m     13\u001b[0m         \u001b[0mlist2\u001b[0m\u001b[1;33m.\u001b[0m\u001b[0mappend\u001b[0m\u001b[1;33m(\u001b[0m\u001b[0mmatch_res2\u001b[0m\u001b[1;33m)\u001b[0m\u001b[1;33m\u001b[0m\u001b[1;33m\u001b[0m\u001b[0m\n\u001b[0;32m     14\u001b[0m     \u001b[1;31m# Using two fuzz method to improve accuracy\u001b[0m\u001b[1;33m\u001b[0m\u001b[1;33m\u001b[0m\u001b[1;33m\u001b[0m\u001b[0m\n",
      "\u001b[1;32m~\\.conda\\envs\\tensorflow_env\\lib\\site-packages\\fuzzywuzzy\\process.py\u001b[0m in \u001b[0;36mextractOne\u001b[1;34m(query, choices, processor, scorer, score_cutoff)\u001b[0m\n\u001b[0;32m    218\u001b[0m     \u001b[0mbest_list\u001b[0m \u001b[1;33m=\u001b[0m \u001b[0mextractWithoutOrder\u001b[0m\u001b[1;33m(\u001b[0m\u001b[0mquery\u001b[0m\u001b[1;33m,\u001b[0m \u001b[0mchoices\u001b[0m\u001b[1;33m,\u001b[0m \u001b[0mprocessor\u001b[0m\u001b[1;33m,\u001b[0m \u001b[0mscorer\u001b[0m\u001b[1;33m,\u001b[0m \u001b[0mscore_cutoff\u001b[0m\u001b[1;33m)\u001b[0m\u001b[1;33m\u001b[0m\u001b[1;33m\u001b[0m\u001b[0m\n\u001b[0;32m    219\u001b[0m     \u001b[1;32mtry\u001b[0m\u001b[1;33m:\u001b[0m\u001b[1;33m\u001b[0m\u001b[1;33m\u001b[0m\u001b[0m\n\u001b[1;32m--> 220\u001b[1;33m         \u001b[1;32mreturn\u001b[0m \u001b[0mmax\u001b[0m\u001b[1;33m(\u001b[0m\u001b[0mbest_list\u001b[0m\u001b[1;33m,\u001b[0m \u001b[0mkey\u001b[0m\u001b[1;33m=\u001b[0m\u001b[1;32mlambda\u001b[0m \u001b[0mi\u001b[0m\u001b[1;33m:\u001b[0m \u001b[0mi\u001b[0m\u001b[1;33m[\u001b[0m\u001b[1;36m1\u001b[0m\u001b[1;33m]\u001b[0m\u001b[1;33m)\u001b[0m\u001b[1;33m\u001b[0m\u001b[1;33m\u001b[0m\u001b[0m\n\u001b[0m\u001b[0;32m    221\u001b[0m     \u001b[1;32mexcept\u001b[0m \u001b[0mValueError\u001b[0m\u001b[1;33m:\u001b[0m\u001b[1;33m\u001b[0m\u001b[1;33m\u001b[0m\u001b[0m\n\u001b[0;32m    222\u001b[0m         \u001b[1;32mreturn\u001b[0m \u001b[1;32mNone\u001b[0m\u001b[1;33m\u001b[0m\u001b[1;33m\u001b[0m\u001b[0m\n",
      "\u001b[1;32m~\\.conda\\envs\\tensorflow_env\\lib\\site-packages\\fuzzywuzzy\\process.py\u001b[0m in \u001b[0;36mextractWithoutOrder\u001b[1;34m(query, choices, processor, scorer, score_cutoff)\u001b[0m\n\u001b[0;32m    107\u001b[0m         \u001b[1;31m# See if choices is a dictionary-like object.\u001b[0m\u001b[1;33m\u001b[0m\u001b[1;33m\u001b[0m\u001b[1;33m\u001b[0m\u001b[0m\n\u001b[0;32m    108\u001b[0m         \u001b[1;32mfor\u001b[0m \u001b[0mkey\u001b[0m\u001b[1;33m,\u001b[0m \u001b[0mchoice\u001b[0m \u001b[1;32min\u001b[0m \u001b[0mchoices\u001b[0m\u001b[1;33m.\u001b[0m\u001b[0mitems\u001b[0m\u001b[1;33m(\u001b[0m\u001b[1;33m)\u001b[0m\u001b[1;33m:\u001b[0m\u001b[1;33m\u001b[0m\u001b[1;33m\u001b[0m\u001b[0m\n\u001b[1;32m--> 109\u001b[1;33m             \u001b[0mprocessed\u001b[0m \u001b[1;33m=\u001b[0m \u001b[0mpre_processor\u001b[0m\u001b[1;33m(\u001b[0m\u001b[0mprocessor\u001b[0m\u001b[1;33m(\u001b[0m\u001b[0mchoice\u001b[0m\u001b[1;33m)\u001b[0m\u001b[1;33m)\u001b[0m\u001b[1;33m\u001b[0m\u001b[1;33m\u001b[0m\u001b[0m\n\u001b[0m\u001b[0;32m    110\u001b[0m             \u001b[0mscore\u001b[0m \u001b[1;33m=\u001b[0m \u001b[0mscorer\u001b[0m\u001b[1;33m(\u001b[0m\u001b[0mprocessed_query\u001b[0m\u001b[1;33m,\u001b[0m \u001b[0mprocessed\u001b[0m\u001b[1;33m)\u001b[0m\u001b[1;33m\u001b[0m\u001b[1;33m\u001b[0m\u001b[0m\n\u001b[0;32m    111\u001b[0m             \u001b[1;32mif\u001b[0m \u001b[0mscore\u001b[0m \u001b[1;33m>=\u001b[0m \u001b[0mscore_cutoff\u001b[0m\u001b[1;33m:\u001b[0m\u001b[1;33m\u001b[0m\u001b[1;33m\u001b[0m\u001b[0m\n",
      "\u001b[1;32m~\\.conda\\envs\\tensorflow_env\\lib\\site-packages\\fuzzywuzzy\\utils.py\u001b[0m in \u001b[0;36mfull_process\u001b[1;34m(s, force_ascii)\u001b[0m\n\u001b[0;32m     93\u001b[0m         \u001b[0ms\u001b[0m \u001b[1;33m=\u001b[0m \u001b[0masciidammit\u001b[0m\u001b[1;33m(\u001b[0m\u001b[0ms\u001b[0m\u001b[1;33m)\u001b[0m\u001b[1;33m\u001b[0m\u001b[1;33m\u001b[0m\u001b[0m\n\u001b[0;32m     94\u001b[0m     \u001b[1;31m# Keep only Letters and Numbers (see Unicode docs).\u001b[0m\u001b[1;33m\u001b[0m\u001b[1;33m\u001b[0m\u001b[1;33m\u001b[0m\u001b[0m\n\u001b[1;32m---> 95\u001b[1;33m     \u001b[0mstring_out\u001b[0m \u001b[1;33m=\u001b[0m \u001b[0mStringProcessor\u001b[0m\u001b[1;33m.\u001b[0m\u001b[0mreplace_non_letters_non_numbers_with_whitespace\u001b[0m\u001b[1;33m(\u001b[0m\u001b[0ms\u001b[0m\u001b[1;33m)\u001b[0m\u001b[1;33m\u001b[0m\u001b[1;33m\u001b[0m\u001b[0m\n\u001b[0m\u001b[0;32m     96\u001b[0m     \u001b[1;31m# Force into lowercase.\u001b[0m\u001b[1;33m\u001b[0m\u001b[1;33m\u001b[0m\u001b[1;33m\u001b[0m\u001b[0m\n\u001b[0;32m     97\u001b[0m     \u001b[0mstring_out\u001b[0m \u001b[1;33m=\u001b[0m \u001b[0mStringProcessor\u001b[0m\u001b[1;33m.\u001b[0m\u001b[0mto_lower_case\u001b[0m\u001b[1;33m(\u001b[0m\u001b[0mstring_out\u001b[0m\u001b[1;33m)\u001b[0m\u001b[1;33m\u001b[0m\u001b[1;33m\u001b[0m\u001b[0m\n",
      "\u001b[1;32m~\\.conda\\envs\\tensorflow_env\\lib\\site-packages\\fuzzywuzzy\\string_processing.py\u001b[0m in \u001b[0;36mreplace_non_letters_non_numbers_with_whitespace\u001b[1;34m(cls, a_string)\u001b[0m\n\u001b[0;32m     24\u001b[0m         \u001b[0mnumbers\u001b[0m \u001b[1;32mwith\u001b[0m \u001b[0ma\u001b[0m \u001b[0msingle\u001b[0m \u001b[0mwhite\u001b[0m \u001b[0mspace\u001b[0m\u001b[1;33m.\u001b[0m\u001b[1;33m\u001b[0m\u001b[1;33m\u001b[0m\u001b[0m\n\u001b[0;32m     25\u001b[0m         \"\"\"\n\u001b[1;32m---> 26\u001b[1;33m         \u001b[1;32mreturn\u001b[0m \u001b[0mcls\u001b[0m\u001b[1;33m.\u001b[0m\u001b[0mregex\u001b[0m\u001b[1;33m.\u001b[0m\u001b[0msub\u001b[0m\u001b[1;33m(\u001b[0m\u001b[1;34m\" \"\u001b[0m\u001b[1;33m,\u001b[0m \u001b[0ma_string\u001b[0m\u001b[1;33m)\u001b[0m\u001b[1;33m\u001b[0m\u001b[1;33m\u001b[0m\u001b[0m\n\u001b[0m\u001b[0;32m     27\u001b[0m \u001b[1;33m\u001b[0m\u001b[0m\n\u001b[0;32m     28\u001b[0m     \u001b[0mstrip\u001b[0m \u001b[1;33m=\u001b[0m \u001b[0mstaticmethod\u001b[0m\u001b[1;33m(\u001b[0m\u001b[0mstring\u001b[0m\u001b[1;33m.\u001b[0m\u001b[0mstrip\u001b[0m\u001b[1;33m)\u001b[0m\u001b[1;33m\u001b[0m\u001b[1;33m\u001b[0m\u001b[0m\n",
      "\u001b[1;31mTypeError\u001b[0m: expected string or bytes-like object"
     ]
    }
   ],
   "source": [
    "output12 = fuzz_match(col_name1 = df['Business_Phone'], col_name2 = df3['HQ_PHONE'], cutoff=85)"
   ]
  },
  {
   "cell_type": "code",
   "execution_count": 36,
   "metadata": {},
   "outputs": [
    {
     "ename": "TypeError",
     "evalue": "expected string or bytes-like object",
     "output_type": "error",
     "traceback": [
      "\u001b[1;31m---------------------------------------------------------------------------\u001b[0m",
      "\u001b[1;31mTypeError\u001b[0m                                 Traceback (most recent call last)",
      "\u001b[1;32m<ipython-input-36-a4278ba3ce52>\u001b[0m in \u001b[0;36m<module>\u001b[1;34m\u001b[0m\n\u001b[0;32m      1\u001b[0m \u001b[0moutput7\u001b[0m \u001b[1;33m=\u001b[0m \u001b[0mfuzz_match\u001b[0m\u001b[1;33m(\u001b[0m\u001b[0mcol_name1\u001b[0m \u001b[1;33m=\u001b[0m \u001b[0mdf\u001b[0m\u001b[1;33m[\u001b[0m\u001b[1;34m'Name'\u001b[0m\u001b[1;33m]\u001b[0m\u001b[1;33m,\u001b[0m \u001b[0mcol_name2\u001b[0m \u001b[1;33m=\u001b[0m \u001b[0mdf1\u001b[0m\u001b[1;33m[\u001b[0m\u001b[1;34m'Name'\u001b[0m\u001b[1;33m]\u001b[0m\u001b[1;33m,\u001b[0m \u001b[0mcutoff\u001b[0m\u001b[1;33m=\u001b[0m\u001b[1;36m85\u001b[0m\u001b[1;33m)\u001b[0m\u001b[1;33m\u001b[0m\u001b[1;33m\u001b[0m\u001b[0m\n\u001b[1;32m----> 2\u001b[1;33m \u001b[0moutput8\u001b[0m\u001b[1;33m=\u001b[0m \u001b[0mfuzz_match\u001b[0m\u001b[1;33m(\u001b[0m\u001b[0mcol_name1\u001b[0m \u001b[1;33m=\u001b[0m \u001b[0mdf\u001b[0m\u001b[1;33m[\u001b[0m\u001b[1;34m'Business_Adr1'\u001b[0m\u001b[1;33m]\u001b[0m\u001b[1;33m,\u001b[0m \u001b[0mcol_name2\u001b[0m \u001b[1;33m=\u001b[0m \u001b[0mdf1\u001b[0m\u001b[1;33m[\u001b[0m\u001b[1;34m'orig_adr1'\u001b[0m\u001b[1;33m]\u001b[0m\u001b[1;33m,\u001b[0m \u001b[0mcutoff\u001b[0m\u001b[1;33m=\u001b[0m\u001b[1;36m70\u001b[0m\u001b[1;33m)\u001b[0m\u001b[1;33m\u001b[0m\u001b[1;33m\u001b[0m\u001b[0m\n\u001b[0m\u001b[0;32m      3\u001b[0m \u001b[0moutput9\u001b[0m \u001b[1;33m=\u001b[0m \u001b[0mfuzz_match\u001b[0m\u001b[1;33m(\u001b[0m\u001b[0mcol_name1\u001b[0m \u001b[1;33m=\u001b[0m \u001b[0mdf\u001b[0m\u001b[1;33m[\u001b[0m\u001b[1;34m'Business_City'\u001b[0m\u001b[1;33m]\u001b[0m\u001b[1;33m,\u001b[0m \u001b[0mcol_name2\u001b[0m \u001b[1;33m=\u001b[0m \u001b[0mdf1\u001b[0m\u001b[1;33m[\u001b[0m\u001b[1;34m'orig_city'\u001b[0m\u001b[1;33m]\u001b[0m\u001b[1;33m,\u001b[0m \u001b[0mcutoff\u001b[0m\u001b[1;33m=\u001b[0m\u001b[1;36m70\u001b[0m\u001b[1;33m)\u001b[0m\u001b[1;33m\u001b[0m\u001b[1;33m\u001b[0m\u001b[0m\n\u001b[0;32m      4\u001b[0m \u001b[0moutput10\u001b[0m \u001b[1;33m=\u001b[0m \u001b[0mfuzz_match\u001b[0m\u001b[1;33m(\u001b[0m\u001b[0mcol_name1\u001b[0m \u001b[1;33m=\u001b[0m \u001b[0mdf\u001b[0m\u001b[1;33m[\u001b[0m\u001b[1;34m'Business_State'\u001b[0m\u001b[1;33m]\u001b[0m\u001b[1;33m,\u001b[0m \u001b[0mcol_name2\u001b[0m \u001b[1;33m=\u001b[0m \u001b[0mdf1\u001b[0m\u001b[1;33m[\u001b[0m\u001b[1;34m'orig_state'\u001b[0m\u001b[1;33m]\u001b[0m\u001b[1;33m,\u001b[0m \u001b[0mcutoff\u001b[0m\u001b[1;33m=\u001b[0m\u001b[1;36m70\u001b[0m\u001b[1;33m)\u001b[0m\u001b[1;33m\u001b[0m\u001b[1;33m\u001b[0m\u001b[0m\n\u001b[0;32m      5\u001b[0m \u001b[0moutput11\u001b[0m \u001b[1;33m=\u001b[0m \u001b[0mfuzz_match\u001b[0m\u001b[1;33m(\u001b[0m\u001b[0mcol_name1\u001b[0m \u001b[1;33m=\u001b[0m \u001b[0mdf\u001b[0m\u001b[1;33m[\u001b[0m\u001b[1;34m'Business_Zip'\u001b[0m\u001b[1;33m]\u001b[0m\u001b[1;33m,\u001b[0m \u001b[0mcol_name2\u001b[0m \u001b[1;33m=\u001b[0m \u001b[0mdf1\u001b[0m\u001b[1;33m[\u001b[0m\u001b[1;34m'orig_zip'\u001b[0m\u001b[1;33m]\u001b[0m\u001b[1;33m,\u001b[0m \u001b[0mcutoff\u001b[0m\u001b[1;33m=\u001b[0m\u001b[1;36m70\u001b[0m\u001b[1;33m)\u001b[0m\u001b[1;33m\u001b[0m\u001b[1;33m\u001b[0m\u001b[0m\n",
      "\u001b[1;32m<ipython-input-17-89039ba4cf65>\u001b[0m in \u001b[0;36mfuzz_match\u001b[1;34m(col_name1, col_name2, cutoff)\u001b[0m\n\u001b[0;32m     10\u001b[0m     \u001b[0mlist2\u001b[0m \u001b[1;33m=\u001b[0m \u001b[1;33m[\u001b[0m\u001b[1;33m]\u001b[0m\u001b[1;33m\u001b[0m\u001b[1;33m\u001b[0m\u001b[0m\n\u001b[0;32m     11\u001b[0m     \u001b[1;32mfor\u001b[0m \u001b[0mi\u001b[0m \u001b[1;32min\u001b[0m \u001b[0mcol_name1\u001b[0m\u001b[1;33m:\u001b[0m\u001b[1;33m\u001b[0m\u001b[1;33m\u001b[0m\u001b[0m\n\u001b[1;32m---> 12\u001b[1;33m         \u001b[0mmatch_res2\u001b[0m \u001b[1;33m=\u001b[0m \u001b[0mprocess\u001b[0m\u001b[1;33m.\u001b[0m\u001b[0mextractOne\u001b[0m\u001b[1;33m(\u001b[0m\u001b[0mi\u001b[0m\u001b[1;33m,\u001b[0m \u001b[0mcol_name2\u001b[0m\u001b[1;33m,\u001b[0m \u001b[0mscorer\u001b[0m \u001b[1;33m=\u001b[0m \u001b[0mfuzz\u001b[0m\u001b[1;33m.\u001b[0m\u001b[0mratio\u001b[0m\u001b[1;33m,\u001b[0m \u001b[0mscore_cutoff\u001b[0m\u001b[1;33m=\u001b[0m\u001b[0mcutoff\u001b[0m\u001b[1;33m)\u001b[0m\u001b[1;33m\u001b[0m\u001b[1;33m\u001b[0m\u001b[0m\n\u001b[0m\u001b[0;32m     13\u001b[0m         \u001b[0mlist2\u001b[0m\u001b[1;33m.\u001b[0m\u001b[0mappend\u001b[0m\u001b[1;33m(\u001b[0m\u001b[0mmatch_res2\u001b[0m\u001b[1;33m)\u001b[0m\u001b[1;33m\u001b[0m\u001b[1;33m\u001b[0m\u001b[0m\n\u001b[0;32m     14\u001b[0m     \u001b[1;31m# Using two fuzz method to improve accuracy\u001b[0m\u001b[1;33m\u001b[0m\u001b[1;33m\u001b[0m\u001b[1;33m\u001b[0m\u001b[0m\n",
      "\u001b[1;32m~\\.conda\\envs\\tensorflow_env\\lib\\site-packages\\fuzzywuzzy\\process.py\u001b[0m in \u001b[0;36mextractOne\u001b[1;34m(query, choices, processor, scorer, score_cutoff)\u001b[0m\n\u001b[0;32m    218\u001b[0m     \u001b[0mbest_list\u001b[0m \u001b[1;33m=\u001b[0m \u001b[0mextractWithoutOrder\u001b[0m\u001b[1;33m(\u001b[0m\u001b[0mquery\u001b[0m\u001b[1;33m,\u001b[0m \u001b[0mchoices\u001b[0m\u001b[1;33m,\u001b[0m \u001b[0mprocessor\u001b[0m\u001b[1;33m,\u001b[0m \u001b[0mscorer\u001b[0m\u001b[1;33m,\u001b[0m \u001b[0mscore_cutoff\u001b[0m\u001b[1;33m)\u001b[0m\u001b[1;33m\u001b[0m\u001b[1;33m\u001b[0m\u001b[0m\n\u001b[0;32m    219\u001b[0m     \u001b[1;32mtry\u001b[0m\u001b[1;33m:\u001b[0m\u001b[1;33m\u001b[0m\u001b[1;33m\u001b[0m\u001b[0m\n\u001b[1;32m--> 220\u001b[1;33m         \u001b[1;32mreturn\u001b[0m \u001b[0mmax\u001b[0m\u001b[1;33m(\u001b[0m\u001b[0mbest_list\u001b[0m\u001b[1;33m,\u001b[0m \u001b[0mkey\u001b[0m\u001b[1;33m=\u001b[0m\u001b[1;32mlambda\u001b[0m \u001b[0mi\u001b[0m\u001b[1;33m:\u001b[0m \u001b[0mi\u001b[0m\u001b[1;33m[\u001b[0m\u001b[1;36m1\u001b[0m\u001b[1;33m]\u001b[0m\u001b[1;33m)\u001b[0m\u001b[1;33m\u001b[0m\u001b[1;33m\u001b[0m\u001b[0m\n\u001b[0m\u001b[0;32m    221\u001b[0m     \u001b[1;32mexcept\u001b[0m \u001b[0mValueError\u001b[0m\u001b[1;33m:\u001b[0m\u001b[1;33m\u001b[0m\u001b[1;33m\u001b[0m\u001b[0m\n\u001b[0;32m    222\u001b[0m         \u001b[1;32mreturn\u001b[0m \u001b[1;32mNone\u001b[0m\u001b[1;33m\u001b[0m\u001b[1;33m\u001b[0m\u001b[0m\n",
      "\u001b[1;32m~\\.conda\\envs\\tensorflow_env\\lib\\site-packages\\fuzzywuzzy\\process.py\u001b[0m in \u001b[0;36mextractWithoutOrder\u001b[1;34m(query, choices, processor, scorer, score_cutoff)\u001b[0m\n\u001b[0;32m    107\u001b[0m         \u001b[1;31m# See if choices is a dictionary-like object.\u001b[0m\u001b[1;33m\u001b[0m\u001b[1;33m\u001b[0m\u001b[1;33m\u001b[0m\u001b[0m\n\u001b[0;32m    108\u001b[0m         \u001b[1;32mfor\u001b[0m \u001b[0mkey\u001b[0m\u001b[1;33m,\u001b[0m \u001b[0mchoice\u001b[0m \u001b[1;32min\u001b[0m \u001b[0mchoices\u001b[0m\u001b[1;33m.\u001b[0m\u001b[0mitems\u001b[0m\u001b[1;33m(\u001b[0m\u001b[1;33m)\u001b[0m\u001b[1;33m:\u001b[0m\u001b[1;33m\u001b[0m\u001b[1;33m\u001b[0m\u001b[0m\n\u001b[1;32m--> 109\u001b[1;33m             \u001b[0mprocessed\u001b[0m \u001b[1;33m=\u001b[0m \u001b[0mpre_processor\u001b[0m\u001b[1;33m(\u001b[0m\u001b[0mprocessor\u001b[0m\u001b[1;33m(\u001b[0m\u001b[0mchoice\u001b[0m\u001b[1;33m)\u001b[0m\u001b[1;33m)\u001b[0m\u001b[1;33m\u001b[0m\u001b[1;33m\u001b[0m\u001b[0m\n\u001b[0m\u001b[0;32m    110\u001b[0m             \u001b[0mscore\u001b[0m \u001b[1;33m=\u001b[0m \u001b[0mscorer\u001b[0m\u001b[1;33m(\u001b[0m\u001b[0mprocessed_query\u001b[0m\u001b[1;33m,\u001b[0m \u001b[0mprocessed\u001b[0m\u001b[1;33m)\u001b[0m\u001b[1;33m\u001b[0m\u001b[1;33m\u001b[0m\u001b[0m\n\u001b[0;32m    111\u001b[0m             \u001b[1;32mif\u001b[0m \u001b[0mscore\u001b[0m \u001b[1;33m>=\u001b[0m \u001b[0mscore_cutoff\u001b[0m\u001b[1;33m:\u001b[0m\u001b[1;33m\u001b[0m\u001b[1;33m\u001b[0m\u001b[0m\n",
      "\u001b[1;32m~\\.conda\\envs\\tensorflow_env\\lib\\site-packages\\fuzzywuzzy\\utils.py\u001b[0m in \u001b[0;36mfull_process\u001b[1;34m(s, force_ascii)\u001b[0m\n\u001b[0;32m     93\u001b[0m         \u001b[0ms\u001b[0m \u001b[1;33m=\u001b[0m \u001b[0masciidammit\u001b[0m\u001b[1;33m(\u001b[0m\u001b[0ms\u001b[0m\u001b[1;33m)\u001b[0m\u001b[1;33m\u001b[0m\u001b[1;33m\u001b[0m\u001b[0m\n\u001b[0;32m     94\u001b[0m     \u001b[1;31m# Keep only Letters and Numbers (see Unicode docs).\u001b[0m\u001b[1;33m\u001b[0m\u001b[1;33m\u001b[0m\u001b[1;33m\u001b[0m\u001b[0m\n\u001b[1;32m---> 95\u001b[1;33m     \u001b[0mstring_out\u001b[0m \u001b[1;33m=\u001b[0m \u001b[0mStringProcessor\u001b[0m\u001b[1;33m.\u001b[0m\u001b[0mreplace_non_letters_non_numbers_with_whitespace\u001b[0m\u001b[1;33m(\u001b[0m\u001b[0ms\u001b[0m\u001b[1;33m)\u001b[0m\u001b[1;33m\u001b[0m\u001b[1;33m\u001b[0m\u001b[0m\n\u001b[0m\u001b[0;32m     96\u001b[0m     \u001b[1;31m# Force into lowercase.\u001b[0m\u001b[1;33m\u001b[0m\u001b[1;33m\u001b[0m\u001b[1;33m\u001b[0m\u001b[0m\n\u001b[0;32m     97\u001b[0m     \u001b[0mstring_out\u001b[0m \u001b[1;33m=\u001b[0m \u001b[0mStringProcessor\u001b[0m\u001b[1;33m.\u001b[0m\u001b[0mto_lower_case\u001b[0m\u001b[1;33m(\u001b[0m\u001b[0mstring_out\u001b[0m\u001b[1;33m)\u001b[0m\u001b[1;33m\u001b[0m\u001b[1;33m\u001b[0m\u001b[0m\n",
      "\u001b[1;32m~\\.conda\\envs\\tensorflow_env\\lib\\site-packages\\fuzzywuzzy\\string_processing.py\u001b[0m in \u001b[0;36mreplace_non_letters_non_numbers_with_whitespace\u001b[1;34m(cls, a_string)\u001b[0m\n\u001b[0;32m     24\u001b[0m         \u001b[0mnumbers\u001b[0m \u001b[1;32mwith\u001b[0m \u001b[0ma\u001b[0m \u001b[0msingle\u001b[0m \u001b[0mwhite\u001b[0m \u001b[0mspace\u001b[0m\u001b[1;33m.\u001b[0m\u001b[1;33m\u001b[0m\u001b[1;33m\u001b[0m\u001b[0m\n\u001b[0;32m     25\u001b[0m         \"\"\"\n\u001b[1;32m---> 26\u001b[1;33m         \u001b[1;32mreturn\u001b[0m \u001b[0mcls\u001b[0m\u001b[1;33m.\u001b[0m\u001b[0mregex\u001b[0m\u001b[1;33m.\u001b[0m\u001b[0msub\u001b[0m\u001b[1;33m(\u001b[0m\u001b[1;34m\" \"\u001b[0m\u001b[1;33m,\u001b[0m \u001b[0ma_string\u001b[0m\u001b[1;33m)\u001b[0m\u001b[1;33m\u001b[0m\u001b[1;33m\u001b[0m\u001b[0m\n\u001b[0m\u001b[0;32m     27\u001b[0m \u001b[1;33m\u001b[0m\u001b[0m\n\u001b[0;32m     28\u001b[0m     \u001b[0mstrip\u001b[0m \u001b[1;33m=\u001b[0m \u001b[0mstaticmethod\u001b[0m\u001b[1;33m(\u001b[0m\u001b[0mstring\u001b[0m\u001b[1;33m.\u001b[0m\u001b[0mstrip\u001b[0m\u001b[1;33m)\u001b[0m\u001b[1;33m\u001b[0m\u001b[1;33m\u001b[0m\u001b[0m\n",
      "\u001b[1;31mTypeError\u001b[0m: expected string or bytes-like object"
     ]
    }
   ],
   "source": [
    "output7 = fuzz_match(col_name1 = df['Name'], col_name2 = df1['Name'], cutoff=85)\n",
    "#output8= fuzz_match(col_name1 = df['Business_Adr1'], col_name2 = df1['orig_adr1'], cutoff=70)\n"
   ]
  },
  {
   "cell_type": "code",
   "execution_count": null,
   "metadata": {},
   "outputs": [],
   "source": []
  },
  {
   "cell_type": "code",
   "execution_count": null,
   "metadata": {},
   "outputs": [],
   "source": []
  },
  {
   "cell_type": "code",
   "execution_count": 28,
   "metadata": {},
   "outputs": [],
   "source": [
    "frames = [df,output6, output1, output2, output3, output4, output5, output7, output8,output9,output10, output11]\n",
    "output = pd.concat(frames, axis=1)"
   ]
  },
  {
   "cell_type": "code",
   "execution_count": 29,
   "metadata": {},
   "outputs": [
    {
     "data": {
      "text/plain": [
       "Index(['NPI', 'Name', 'Is_Org_Subpart', 'Business_Adr1', 'Business_City',\n",
       "       'Business_State', 'Business_Zip', 'Business_Phone', 'Practice_Adr1',\n",
       "       'Practice_City', 'Practice_State', 'Practice_Zip', 'Practice_Phone',\n",
       "       'Official_Name_First', 'Official_Name_Last', 'Official_Position',\n",
       "       'Official_Phone', 'Taxonomy_Code'],\n",
       "      dtype='object')"
      ]
     },
     "execution_count": 29,
     "metadata": {},
     "output_type": "execute_result"
    }
   ],
   "source": [
    "df.columns"
   ]
  },
  {
   "cell_type": "code",
   "execution_count": 27,
   "metadata": {},
   "outputs": [
    {
     "data": {
      "text/html": [
       "<div>\n",
       "<style scoped>\n",
       "    .dataframe tbody tr th:only-of-type {\n",
       "        vertical-align: middle;\n",
       "    }\n",
       "\n",
       "    .dataframe tbody tr th {\n",
       "        vertical-align: top;\n",
       "    }\n",
       "\n",
       "    .dataframe thead th {\n",
       "        text-align: right;\n",
       "    }\n",
       "</style>\n",
       "<table border=\"1\" class=\"dataframe\">\n",
       "  <thead>\n",
       "    <tr style=\"text-align: right;\">\n",
       "      <th></th>\n",
       "      <th>TIN</th>\n",
       "      <th>Src</th>\n",
       "      <th>L1</th>\n",
       "      <th>L2</th>\n",
       "      <th>L3</th>\n",
       "      <th>L4</th>\n",
       "      <th>Name</th>\n",
       "      <th>orig_adr1</th>\n",
       "      <th>orig_city</th>\n",
       "      <th>orig_state</th>\n",
       "      <th>...</th>\n",
       "      <th>score2</th>\n",
       "      <th>origin</th>\n",
       "      <th>ratio_match</th>\n",
       "      <th>score2</th>\n",
       "      <th>origin</th>\n",
       "      <th>ratio_match</th>\n",
       "      <th>score2</th>\n",
       "      <th>origin</th>\n",
       "      <th>ratio_match</th>\n",
       "      <th>score2</th>\n",
       "    </tr>\n",
       "  </thead>\n",
       "  <tbody>\n",
       "    <tr>\n",
       "      <th>0</th>\n",
       "      <td>161387862</td>\n",
       "      <td>Dun</td>\n",
       "      <td>Quest Diagnostics Incorporated</td>\n",
       "      <td>NA</td>\n",
       "      <td>NA</td>\n",
       "      <td>NA</td>\n",
       "      <td>Quest Diagnostics Incorporated</td>\n",
       "      <td>500 Plaza Dr Ste G</td>\n",
       "      <td>Secaucus</td>\n",
       "      <td>NJ</td>\n",
       "      <td>...</td>\n",
       "      <td>NaN</td>\n",
       "      <td>BURLINGTON</td>\n",
       "      <td>Bloomington</td>\n",
       "      <td>76.0</td>\n",
       "      <td>VT</td>\n",
       "      <td>None</td>\n",
       "      <td>NaN</td>\n",
       "      <td>054015906</td>\n",
       "      <td>None</td>\n",
       "      <td>NaN</td>\n",
       "    </tr>\n",
       "    <tr>\n",
       "      <th>1</th>\n",
       "      <td>954415490</td>\n",
       "      <td>Dun</td>\n",
       "      <td>Quest Diagnostics Incorporated</td>\n",
       "      <td>Unilab Corporation</td>\n",
       "      <td>NA</td>\n",
       "      <td>NA</td>\n",
       "      <td>Unilab Corporation</td>\n",
       "      <td>8401 Fallbrook Ave</td>\n",
       "      <td>West Hills</td>\n",
       "      <td>CA</td>\n",
       "      <td>...</td>\n",
       "      <td>NaN</td>\n",
       "      <td>COLONIA</td>\n",
       "      <td>Livonia</td>\n",
       "      <td>71.0</td>\n",
       "      <td>NJ</td>\n",
       "      <td>NJ</td>\n",
       "      <td>100.0</td>\n",
       "      <td>070677135</td>\n",
       "      <td>None</td>\n",
       "      <td>NaN</td>\n",
       "    </tr>\n",
       "  </tbody>\n",
       "</table>\n",
       "<p>2 rows × 29 columns</p>\n",
       "</div>"
      ],
      "text/plain": [
       "         TIN  Src                              L1                  L2  L3  L4  \\\n",
       "0  161387862  Dun  Quest Diagnostics Incorporated                  NA  NA  NA   \n",
       "1  954415490  Dun  Quest Diagnostics Incorporated  Unilab Corporation  NA  NA   \n",
       "\n",
       "                             Name           orig_adr1   orig_city orig_state  \\\n",
       "0  Quest Diagnostics Incorporated  500 Plaza Dr Ste G    Secaucus         NJ   \n",
       "1              Unilab Corporation  8401 Fallbrook Ave  West Hills         CA   \n",
       "\n",
       "   ...  score2      origin  ratio_match  score2 origin ratio_match  score2  \\\n",
       "0  ...     NaN  BURLINGTON  Bloomington    76.0     VT        None     NaN   \n",
       "1  ...     NaN     COLONIA      Livonia    71.0     NJ          NJ   100.0   \n",
       "\n",
       "      origin ratio_match  score2  \n",
       "0  054015906        None     NaN  \n",
       "1  070677135        None     NaN  \n",
       "\n",
       "[2 rows x 29 columns]"
      ]
     },
     "execution_count": 27,
     "metadata": {},
     "output_type": "execute_result"
    }
   ],
   "source": [
    "output.head(2)"
   ]
  },
  {
   "cell_type": "code",
   "execution_count": 32,
   "metadata": {},
   "outputs": [],
   "source": [
    "output.columns = ['NPI', 'Name', 'Is_Org_Subpart', 'Business_Adr1', 'Business_City',\n",
    "       'Business_State', 'Business_Zip', 'Business_Phone', 'Practice_Adr1',\n",
    "       'Practice_City', 'Practice_State', 'Practice_Zip', 'Practice_Phone',\n",
    "       'Official_Name_First', 'Official_Name_Last', 'Official_Position',\n",
    "       'Official_Phone', 'Taxonomy_Code',\n",
    "                  'NPI', 'defNPI', 'NPIScore',\n",
    "                  'Name', 'DefName','DefNameScore', \n",
    "                  'Address','DefAddress', 'DefAdrsScore', \n",
    "                  'City', 'DefCity', 'DefCityScore',\n",
    "                  'State', 'DefState', 'DefStateScore',\n",
    "                  'Zip', 'DefZip', 'DefZipScore']"
   ]
  },
  {
   "cell_type": "code",
   "execution_count": 33,
   "metadata": {},
   "outputs": [],
   "source": [
    "#output[\"WebScore\"]=output[\"WebNameScore\"]+output[\"WebAdrsScore\"]+output[\"WebCityScore\"]+output['WebStateScore']+output[\"WebZipScore\"]\n",
    "\n",
    "output[\"DefScore\"]=output[\"NPIScore\"]+output[\"DefNameScore\"]+output[\"DefAdrsScore\"]+output[\"DefCityScore\"]+output['DefStateScore']+output[\"DefZipScore\"]"
   ]
  },
  {
   "cell_type": "code",
   "execution_count": 34,
   "metadata": {},
   "outputs": [],
   "source": [
    "output.to_excel(\"Fuzzy_Quest_Final.xlsx\")"
   ]
  },
  {
   "cell_type": "code",
   "execution_count": null,
   "metadata": {},
   "outputs": [],
   "source": []
  }
 ],
 "metadata": {
  "kernelspec": {
   "display_name": "Python 3",
   "language": "python",
   "name": "python3"
  },
  "language_info": {
   "codemirror_mode": {
    "name": "ipython",
    "version": 3
   },
   "file_extension": ".py",
   "mimetype": "text/x-python",
   "name": "python",
   "nbconvert_exporter": "python",
   "pygments_lexer": "ipython3",
   "version": "3.7.1"
  }
 },
 "nbformat": 4,
 "nbformat_minor": 4
}
